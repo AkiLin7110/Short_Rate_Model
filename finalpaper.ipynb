{
 "cells": [
  {
   "cell_type": "code",
   "execution_count": 8,
   "metadata": {},
   "outputs": [
    {
     "data": {
      "text/plain": [
       "'/home/akilin/Documents/NCCU/111下/利率工程'"
      ]
     },
     "execution_count": 8,
     "metadata": {},
     "output_type": "execute_result"
    }
   ],
   "source": [
    "import pandas as pd\n",
    "import numpy as np\n",
    "import scipy\n",
    "from scipy.optimize import leastsq, minimize,differential_evolution\n",
    "import matplotlib.pyplot as plt \n",
    "import os\n",
    "%matplotlib inline \n",
    "os.getcwd()"
   ]
  },
  {
   "attachments": {},
   "cell_type": "markdown",
   "metadata": {},
   "source": [
    "### Data Prepocessing"
   ]
  },
  {
   "cell_type": "code",
   "execution_count": 20,
   "metadata": {},
   "outputs": [],
   "source": [
    "#df_2023 = pd.read_csv('./daily_treasury_par_yield_curve_rates/daily-treasury-rates-2023.csv', parse_dates=['Date'])\n",
    "#df_2022 = pd.read_csv('./daily_treasury_par_yield_curve_rates/daily-treasury-rates-2022.csv', parse_dates=['Date'])\n",
    "#df_2021 = pd.read_csv('./daily_treasury_par_yield_curve_rates/daily-treasury-rates-2021.csv', parse_dates=['Date'])\n",
    "#df_2020 = pd.read_csv('./daily_treasury_par_yield_curve_rates/daily-treasury-rates-2020.csv', parse_dates=['Date'])\n",
    "#df_2019 = pd.read_csv('./daily_treasury_par_yield_curve_rates/daily-treasury-rates-2019.csv', parse_dates=['Date'])\n",
    "#df_2018 = pd.read_csv('./daily_treasury_par_yield_curve_rates/daily-treasury-rates-2018.csv', parse_dates=['Date'])\n",
    "#df_2018.columns"
   ]
  },
  {
   "cell_type": "code",
   "execution_count": 21,
   "metadata": {},
   "outputs": [],
   "source": [
    "#df = pd.DataFrame()\n",
    "#table_list = [df_2023, df_2022, df_2021, df_2020, df_2019, df_2018]\n",
    "#table_list_1 = [ df_2021, df_2020, df_2019]\n",
    "#def dataMerge(df:object,table_list:list) -> None :\n",
    "    \n",
    "    # data merge\n",
    "    #for i in table_list:\n",
    "        #df = pd.concat([df,i], axis=0)\n",
    "    #return df"
   ]
  },
  {
   "cell_type": "code",
   "execution_count": 22,
   "metadata": {},
   "outputs": [],
   "source": [
    "#table_list[0]"
   ]
  },
  {
   "cell_type": "code",
   "execution_count": 23,
   "metadata": {},
   "outputs": [],
   "source": [
    "#df_1 = dataMerge(df = df, table_list=table_list_1)\n",
    "#df_1.to_csv('test.csv')\n",
    "#df_1"
   ]
  },
  {
   "cell_type": "code",
   "execution_count": 24,
   "metadata": {},
   "outputs": [],
   "source": [
    "#df = dataMerge(df=df,table_list=table_list)\n",
    "#df.to_csv('basic.csv')\n",
    "#df"
   ]
  },
  {
   "cell_type": "code",
   "execution_count": 9,
   "metadata": {},
   "outputs": [
    {
     "data": {
      "text/html": [
       "<div>\n",
       "<style scoped>\n",
       "    .dataframe tbody tr th:only-of-type {\n",
       "        vertical-align: middle;\n",
       "    }\n",
       "\n",
       "    .dataframe tbody tr th {\n",
       "        vertical-align: top;\n",
       "    }\n",
       "\n",
       "    .dataframe thead th {\n",
       "        text-align: right;\n",
       "    }\n",
       "</style>\n",
       "<table border=\"1\" class=\"dataframe\">\n",
       "  <thead>\n",
       "    <tr style=\"text-align: right;\">\n",
       "      <th></th>\n",
       "      <th>1 Mo</th>\n",
       "      <th>2 Mo</th>\n",
       "      <th>3 Mo</th>\n",
       "      <th>4 Mo</th>\n",
       "      <th>6 Mo</th>\n",
       "      <th>1 Yr</th>\n",
       "      <th>2 Yr</th>\n",
       "      <th>3 Yr</th>\n",
       "      <th>5 Yr</th>\n",
       "      <th>7 Yr</th>\n",
       "      <th>10 Yr</th>\n",
       "      <th>20 Yr</th>\n",
       "      <th>30 Yr</th>\n",
       "    </tr>\n",
       "    <tr>\n",
       "      <th>Date</th>\n",
       "      <th></th>\n",
       "      <th></th>\n",
       "      <th></th>\n",
       "      <th></th>\n",
       "      <th></th>\n",
       "      <th></th>\n",
       "      <th></th>\n",
       "      <th></th>\n",
       "      <th></th>\n",
       "      <th></th>\n",
       "      <th></th>\n",
       "      <th></th>\n",
       "      <th></th>\n",
       "    </tr>\n",
       "  </thead>\n",
       "  <tbody>\n",
       "    <tr>\n",
       "      <th>2023-06-06</th>\n",
       "      <td>0.0515</td>\n",
       "      <td>0.0526</td>\n",
       "      <td>0.0544</td>\n",
       "      <td>0.0544</td>\n",
       "      <td>0.0544</td>\n",
       "      <td>0.0520</td>\n",
       "      <td>0.0451</td>\n",
       "      <td>0.0415</td>\n",
       "      <td>0.0385</td>\n",
       "      <td>0.0378</td>\n",
       "      <td>0.0370</td>\n",
       "      <td>0.0402</td>\n",
       "      <td>0.0387</td>\n",
       "    </tr>\n",
       "    <tr>\n",
       "      <th>2023-06-05</th>\n",
       "      <td>0.0525</td>\n",
       "      <td>0.0535</td>\n",
       "      <td>0.0546</td>\n",
       "      <td>0.0547</td>\n",
       "      <td>0.0546</td>\n",
       "      <td>0.0517</td>\n",
       "      <td>0.0446</td>\n",
       "      <td>0.0410</td>\n",
       "      <td>0.0382</td>\n",
       "      <td>0.0377</td>\n",
       "      <td>0.0369</td>\n",
       "      <td>0.0403</td>\n",
       "      <td>0.0389</td>\n",
       "    </tr>\n",
       "    <tr>\n",
       "      <th>2023-06-02</th>\n",
       "      <td>0.0528</td>\n",
       "      <td>0.0539</td>\n",
       "      <td>0.0550</td>\n",
       "      <td>0.0552</td>\n",
       "      <td>0.0550</td>\n",
       "      <td>0.0522</td>\n",
       "      <td>0.0450</td>\n",
       "      <td>0.0413</td>\n",
       "      <td>0.0384</td>\n",
       "      <td>0.0378</td>\n",
       "      <td>0.0369</td>\n",
       "      <td>0.0403</td>\n",
       "      <td>0.0388</td>\n",
       "    </tr>\n",
       "    <tr>\n",
       "      <th>2023-06-01</th>\n",
       "      <td>0.0530</td>\n",
       "      <td>0.0539</td>\n",
       "      <td>0.0550</td>\n",
       "      <td>0.0550</td>\n",
       "      <td>0.0544</td>\n",
       "      <td>0.0511</td>\n",
       "      <td>0.0433</td>\n",
       "      <td>0.0398</td>\n",
       "      <td>0.0370</td>\n",
       "      <td>0.0366</td>\n",
       "      <td>0.0361</td>\n",
       "      <td>0.0398</td>\n",
       "      <td>0.0384</td>\n",
       "    </tr>\n",
       "    <tr>\n",
       "      <th>2023-05-31</th>\n",
       "      <td>0.0528</td>\n",
       "      <td>0.0537</td>\n",
       "      <td>0.0552</td>\n",
       "      <td>0.0553</td>\n",
       "      <td>0.0546</td>\n",
       "      <td>0.0518</td>\n",
       "      <td>0.0440</td>\n",
       "      <td>0.0404</td>\n",
       "      <td>0.0374</td>\n",
       "      <td>0.0369</td>\n",
       "      <td>0.0364</td>\n",
       "      <td>0.0401</td>\n",
       "      <td>0.0385</td>\n",
       "    </tr>\n",
       "    <tr>\n",
       "      <th>...</th>\n",
       "      <td>...</td>\n",
       "      <td>...</td>\n",
       "      <td>...</td>\n",
       "      <td>...</td>\n",
       "      <td>...</td>\n",
       "      <td>...</td>\n",
       "      <td>...</td>\n",
       "      <td>...</td>\n",
       "      <td>...</td>\n",
       "      <td>...</td>\n",
       "      <td>...</td>\n",
       "      <td>...</td>\n",
       "      <td>...</td>\n",
       "    </tr>\n",
       "    <tr>\n",
       "      <th>2023-01-09</th>\n",
       "      <td>0.0437</td>\n",
       "      <td>0.0458</td>\n",
       "      <td>0.0470</td>\n",
       "      <td>0.0474</td>\n",
       "      <td>0.0483</td>\n",
       "      <td>0.0469</td>\n",
       "      <td>0.0419</td>\n",
       "      <td>0.0393</td>\n",
       "      <td>0.0366</td>\n",
       "      <td>0.0360</td>\n",
       "      <td>0.0353</td>\n",
       "      <td>0.0383</td>\n",
       "      <td>0.0366</td>\n",
       "    </tr>\n",
       "    <tr>\n",
       "      <th>2023-01-06</th>\n",
       "      <td>0.0432</td>\n",
       "      <td>0.0455</td>\n",
       "      <td>0.0467</td>\n",
       "      <td>0.0474</td>\n",
       "      <td>0.0479</td>\n",
       "      <td>0.0471</td>\n",
       "      <td>0.0424</td>\n",
       "      <td>0.0396</td>\n",
       "      <td>0.0369</td>\n",
       "      <td>0.0363</td>\n",
       "      <td>0.0355</td>\n",
       "      <td>0.0384</td>\n",
       "      <td>0.0367</td>\n",
       "    </tr>\n",
       "    <tr>\n",
       "      <th>2023-01-05</th>\n",
       "      <td>0.0430</td>\n",
       "      <td>0.0455</td>\n",
       "      <td>0.0466</td>\n",
       "      <td>0.0475</td>\n",
       "      <td>0.0481</td>\n",
       "      <td>0.0478</td>\n",
       "      <td>0.0445</td>\n",
       "      <td>0.0418</td>\n",
       "      <td>0.0390</td>\n",
       "      <td>0.0382</td>\n",
       "      <td>0.0371</td>\n",
       "      <td>0.0396</td>\n",
       "      <td>0.0378</td>\n",
       "    </tr>\n",
       "    <tr>\n",
       "      <th>2023-01-04</th>\n",
       "      <td>0.0420</td>\n",
       "      <td>0.0442</td>\n",
       "      <td>0.0455</td>\n",
       "      <td>0.0469</td>\n",
       "      <td>0.0477</td>\n",
       "      <td>0.0471</td>\n",
       "      <td>0.0436</td>\n",
       "      <td>0.0411</td>\n",
       "      <td>0.0385</td>\n",
       "      <td>0.0379</td>\n",
       "      <td>0.0369</td>\n",
       "      <td>0.0397</td>\n",
       "      <td>0.0381</td>\n",
       "    </tr>\n",
       "    <tr>\n",
       "      <th>2023-01-03</th>\n",
       "      <td>0.0417</td>\n",
       "      <td>0.0442</td>\n",
       "      <td>0.0453</td>\n",
       "      <td>0.0470</td>\n",
       "      <td>0.0477</td>\n",
       "      <td>0.0472</td>\n",
       "      <td>0.0440</td>\n",
       "      <td>0.0418</td>\n",
       "      <td>0.0394</td>\n",
       "      <td>0.0389</td>\n",
       "      <td>0.0379</td>\n",
       "      <td>0.0406</td>\n",
       "      <td>0.0388</td>\n",
       "    </tr>\n",
       "  </tbody>\n",
       "</table>\n",
       "<p>108 rows × 13 columns</p>\n",
       "</div>"
      ],
      "text/plain": [
       "              1 Mo    2 Mo    3 Mo    4 Mo    6 Mo    1 Yr    2 Yr    3 Yr  \\\n",
       "Date                                                                         \n",
       "2023-06-06  0.0515  0.0526  0.0544  0.0544  0.0544  0.0520  0.0451  0.0415   \n",
       "2023-06-05  0.0525  0.0535  0.0546  0.0547  0.0546  0.0517  0.0446  0.0410   \n",
       "2023-06-02  0.0528  0.0539  0.0550  0.0552  0.0550  0.0522  0.0450  0.0413   \n",
       "2023-06-01  0.0530  0.0539  0.0550  0.0550  0.0544  0.0511  0.0433  0.0398   \n",
       "2023-05-31  0.0528  0.0537  0.0552  0.0553  0.0546  0.0518  0.0440  0.0404   \n",
       "...            ...     ...     ...     ...     ...     ...     ...     ...   \n",
       "2023-01-09  0.0437  0.0458  0.0470  0.0474  0.0483  0.0469  0.0419  0.0393   \n",
       "2023-01-06  0.0432  0.0455  0.0467  0.0474  0.0479  0.0471  0.0424  0.0396   \n",
       "2023-01-05  0.0430  0.0455  0.0466  0.0475  0.0481  0.0478  0.0445  0.0418   \n",
       "2023-01-04  0.0420  0.0442  0.0455  0.0469  0.0477  0.0471  0.0436  0.0411   \n",
       "2023-01-03  0.0417  0.0442  0.0453  0.0470  0.0477  0.0472  0.0440  0.0418   \n",
       "\n",
       "              5 Yr    7 Yr   10 Yr   20 Yr   30 Yr  \n",
       "Date                                                \n",
       "2023-06-06  0.0385  0.0378  0.0370  0.0402  0.0387  \n",
       "2023-06-05  0.0382  0.0377  0.0369  0.0403  0.0389  \n",
       "2023-06-02  0.0384  0.0378  0.0369  0.0403  0.0388  \n",
       "2023-06-01  0.0370  0.0366  0.0361  0.0398  0.0384  \n",
       "2023-05-31  0.0374  0.0369  0.0364  0.0401  0.0385  \n",
       "...            ...     ...     ...     ...     ...  \n",
       "2023-01-09  0.0366  0.0360  0.0353  0.0383  0.0366  \n",
       "2023-01-06  0.0369  0.0363  0.0355  0.0384  0.0367  \n",
       "2023-01-05  0.0390  0.0382  0.0371  0.0396  0.0378  \n",
       "2023-01-04  0.0385  0.0379  0.0369  0.0397  0.0381  \n",
       "2023-01-03  0.0394  0.0389  0.0379  0.0406  0.0388  \n",
       "\n",
       "[108 rows x 13 columns]"
      ]
     },
     "execution_count": 9,
     "metadata": {},
     "output_type": "execute_result"
    }
   ],
   "source": [
    "df = pd.read_csv('Final/daily_treasury_rates.csv',parse_dates=['Date'],index_col=['Date'])\n",
    "df = df/100\n",
    "df"
   ]
  },
  {
   "attachments": {},
   "cell_type": "markdown",
   "metadata": {},
   "source": [
    "### Maturity tranform"
   ]
  },
  {
   "cell_type": "code",
   "execution_count": 26,
   "metadata": {},
   "outputs": [
    {
     "data": {
      "text/html": [
       "<div>\n",
       "<style scoped>\n",
       "    .dataframe tbody tr th:only-of-type {\n",
       "        vertical-align: middle;\n",
       "    }\n",
       "\n",
       "    .dataframe tbody tr th {\n",
       "        vertical-align: top;\n",
       "    }\n",
       "\n",
       "    .dataframe thead th {\n",
       "        text-align: right;\n",
       "    }\n",
       "</style>\n",
       "<table border=\"1\" class=\"dataframe\">\n",
       "  <thead>\n",
       "    <tr style=\"text-align: right;\">\n",
       "      <th></th>\n",
       "      <th>Maturity</th>\n",
       "      <th>Maturity_num</th>\n",
       "    </tr>\n",
       "  </thead>\n",
       "  <tbody>\n",
       "    <tr>\n",
       "      <th>0</th>\n",
       "      <td>1 Mo</td>\n",
       "      <td>0.083333</td>\n",
       "    </tr>\n",
       "    <tr>\n",
       "      <th>1</th>\n",
       "      <td>2 Mo</td>\n",
       "      <td>0.166667</td>\n",
       "    </tr>\n",
       "    <tr>\n",
       "      <th>2</th>\n",
       "      <td>3 Mo</td>\n",
       "      <td>0.250000</td>\n",
       "    </tr>\n",
       "    <tr>\n",
       "      <th>3</th>\n",
       "      <td>4 Mo</td>\n",
       "      <td>0.333333</td>\n",
       "    </tr>\n",
       "    <tr>\n",
       "      <th>4</th>\n",
       "      <td>6 Mo</td>\n",
       "      <td>0.500000</td>\n",
       "    </tr>\n",
       "    <tr>\n",
       "      <th>5</th>\n",
       "      <td>1 Yr</td>\n",
       "      <td>1.000000</td>\n",
       "    </tr>\n",
       "    <tr>\n",
       "      <th>6</th>\n",
       "      <td>2 Yr</td>\n",
       "      <td>2.000000</td>\n",
       "    </tr>\n",
       "    <tr>\n",
       "      <th>7</th>\n",
       "      <td>3 Yr</td>\n",
       "      <td>3.000000</td>\n",
       "    </tr>\n",
       "    <tr>\n",
       "      <th>8</th>\n",
       "      <td>5 Yr</td>\n",
       "      <td>5.000000</td>\n",
       "    </tr>\n",
       "    <tr>\n",
       "      <th>9</th>\n",
       "      <td>7 Yr</td>\n",
       "      <td>7.000000</td>\n",
       "    </tr>\n",
       "    <tr>\n",
       "      <th>10</th>\n",
       "      <td>10 Yr</td>\n",
       "      <td>10.000000</td>\n",
       "    </tr>\n",
       "    <tr>\n",
       "      <th>11</th>\n",
       "      <td>20 Yr</td>\n",
       "      <td>20.000000</td>\n",
       "    </tr>\n",
       "    <tr>\n",
       "      <th>12</th>\n",
       "      <td>30 Yr</td>\n",
       "      <td>30.000000</td>\n",
       "    </tr>\n",
       "  </tbody>\n",
       "</table>\n",
       "</div>"
      ],
      "text/plain": [
       "   Maturity  Maturity_num\n",
       "0      1 Mo      0.083333\n",
       "1      2 Mo      0.166667\n",
       "2      3 Mo      0.250000\n",
       "3      4 Mo      0.333333\n",
       "4      6 Mo      0.500000\n",
       "5      1 Yr      1.000000\n",
       "6      2 Yr      2.000000\n",
       "7      3 Yr      3.000000\n",
       "8      5 Yr      5.000000\n",
       "9      7 Yr      7.000000\n",
       "10    10 Yr     10.000000\n",
       "11    20 Yr     20.000000\n",
       "12    30 Yr     30.000000"
      ]
     },
     "execution_count": 26,
     "metadata": {},
     "output_type": "execute_result"
    }
   ],
   "source": [
    "def convert_maturity(maturity_str):\n",
    "    if 'M' in maturity_str:\n",
    "        return int(maturity_str.split()[0]) / 12\n",
    "    elif 'Y' in maturity_str:\n",
    "        return int(maturity_str.split()[0])\n",
    "    else:\n",
    "        return 0\n",
    "\n",
    "df_T = pd.DataFrame({'Maturity': df.columns})\n",
    "df_T['Maturity_num'] = df_T['Maturity'].apply(convert_maturity)\n",
    "df_T"
   ]
  },
  {
   "attachments": {},
   "cell_type": "markdown",
   "metadata": {},
   "source": [
    "### Zero Coupon Bound Transform"
   ]
  },
  {
   "cell_type": "code",
   "execution_count": 27,
   "metadata": {},
   "outputs": [
    {
     "data": {
      "text/html": [
       "<div>\n",
       "<style scoped>\n",
       "    .dataframe tbody tr th:only-of-type {\n",
       "        vertical-align: middle;\n",
       "    }\n",
       "\n",
       "    .dataframe tbody tr th {\n",
       "        vertical-align: top;\n",
       "    }\n",
       "\n",
       "    .dataframe thead th {\n",
       "        text-align: right;\n",
       "    }\n",
       "</style>\n",
       "<table border=\"1\" class=\"dataframe\">\n",
       "  <thead>\n",
       "    <tr style=\"text-align: right;\">\n",
       "      <th></th>\n",
       "      <th>1 Mo</th>\n",
       "      <th>2 Mo</th>\n",
       "      <th>3 Mo</th>\n",
       "      <th>4 Mo</th>\n",
       "      <th>6 Mo</th>\n",
       "      <th>1 Yr</th>\n",
       "      <th>2 Yr</th>\n",
       "      <th>3 Yr</th>\n",
       "      <th>5 Yr</th>\n",
       "      <th>7 Yr</th>\n",
       "      <th>10 Yr</th>\n",
       "      <th>20 Yr</th>\n",
       "      <th>30 Yr</th>\n",
       "    </tr>\n",
       "    <tr>\n",
       "      <th>Date</th>\n",
       "      <th></th>\n",
       "      <th></th>\n",
       "      <th></th>\n",
       "      <th></th>\n",
       "      <th></th>\n",
       "      <th></th>\n",
       "      <th></th>\n",
       "      <th></th>\n",
       "      <th></th>\n",
       "      <th></th>\n",
       "      <th></th>\n",
       "      <th></th>\n",
       "      <th></th>\n",
       "    </tr>\n",
       "  </thead>\n",
       "  <tbody>\n",
       "    <tr>\n",
       "      <th>2023-06-06</th>\n",
       "      <td>0.995718</td>\n",
       "      <td>0.991272</td>\n",
       "      <td>0.986492</td>\n",
       "      <td>0.982030</td>\n",
       "      <td>0.973167</td>\n",
       "      <td>0.949329</td>\n",
       "      <td>0.913748</td>\n",
       "      <td>0.882938</td>\n",
       "      <td>0.824894</td>\n",
       "      <td>0.767513</td>\n",
       "      <td>0.690734</td>\n",
       "      <td>0.447535</td>\n",
       "      <td>0.313173</td>\n",
       "    </tr>\n",
       "    <tr>\n",
       "      <th>2023-06-05</th>\n",
       "      <td>0.995635</td>\n",
       "      <td>0.991123</td>\n",
       "      <td>0.986443</td>\n",
       "      <td>0.981932</td>\n",
       "      <td>0.973069</td>\n",
       "      <td>0.949614</td>\n",
       "      <td>0.914663</td>\n",
       "      <td>0.884264</td>\n",
       "      <td>0.826133</td>\n",
       "      <td>0.768050</td>\n",
       "      <td>0.691425</td>\n",
       "      <td>0.446641</td>\n",
       "      <td>0.311299</td>\n",
       "    </tr>\n",
       "    <tr>\n",
       "      <th>2023-06-02</th>\n",
       "      <td>0.995610</td>\n",
       "      <td>0.991057</td>\n",
       "      <td>0.986344</td>\n",
       "      <td>0.981768</td>\n",
       "      <td>0.972875</td>\n",
       "      <td>0.949139</td>\n",
       "      <td>0.913931</td>\n",
       "      <td>0.883468</td>\n",
       "      <td>0.825307</td>\n",
       "      <td>0.767513</td>\n",
       "      <td>0.691425</td>\n",
       "      <td>0.446641</td>\n",
       "      <td>0.312235</td>\n",
       "    </tr>\n",
       "    <tr>\n",
       "      <th>2023-06-01</th>\n",
       "      <td>0.995593</td>\n",
       "      <td>0.991057</td>\n",
       "      <td>0.986344</td>\n",
       "      <td>0.981834</td>\n",
       "      <td>0.973167</td>\n",
       "      <td>0.950184</td>\n",
       "      <td>0.917044</td>\n",
       "      <td>0.887453</td>\n",
       "      <td>0.831104</td>\n",
       "      <td>0.773987</td>\n",
       "      <td>0.696979</td>\n",
       "      <td>0.451130</td>\n",
       "      <td>0.316004</td>\n",
       "    </tr>\n",
       "    <tr>\n",
       "      <th>2023-05-31</th>\n",
       "      <td>0.995610</td>\n",
       "      <td>0.991090</td>\n",
       "      <td>0.986295</td>\n",
       "      <td>0.981736</td>\n",
       "      <td>0.973069</td>\n",
       "      <td>0.949519</td>\n",
       "      <td>0.915761</td>\n",
       "      <td>0.885857</td>\n",
       "      <td>0.829444</td>\n",
       "      <td>0.772363</td>\n",
       "      <td>0.694891</td>\n",
       "      <td>0.448431</td>\n",
       "      <td>0.315058</td>\n",
       "    </tr>\n",
       "  </tbody>\n",
       "</table>\n",
       "</div>"
      ],
      "text/plain": [
       "                1 Mo      2 Mo      3 Mo      4 Mo      6 Mo      1 Yr  \\\n",
       "Date                                                                     \n",
       "2023-06-06  0.995718  0.991272  0.986492  0.982030  0.973167  0.949329   \n",
       "2023-06-05  0.995635  0.991123  0.986443  0.981932  0.973069  0.949614   \n",
       "2023-06-02  0.995610  0.991057  0.986344  0.981768  0.972875  0.949139   \n",
       "2023-06-01  0.995593  0.991057  0.986344  0.981834  0.973167  0.950184   \n",
       "2023-05-31  0.995610  0.991090  0.986295  0.981736  0.973069  0.949519   \n",
       "\n",
       "                2 Yr      3 Yr      5 Yr      7 Yr     10 Yr     20 Yr  \\\n",
       "Date                                                                     \n",
       "2023-06-06  0.913748  0.882938  0.824894  0.767513  0.690734  0.447535   \n",
       "2023-06-05  0.914663  0.884264  0.826133  0.768050  0.691425  0.446641   \n",
       "2023-06-02  0.913931  0.883468  0.825307  0.767513  0.691425  0.446641   \n",
       "2023-06-01  0.917044  0.887453  0.831104  0.773987  0.696979  0.451130   \n",
       "2023-05-31  0.915761  0.885857  0.829444  0.772363  0.694891  0.448431   \n",
       "\n",
       "               30 Yr  \n",
       "Date                  \n",
       "2023-06-06  0.313173  \n",
       "2023-06-05  0.311299  \n",
       "2023-06-02  0.312235  \n",
       "2023-06-01  0.316004  \n",
       "2023-05-31  0.315058  "
      ]
     },
     "execution_count": 27,
     "metadata": {},
     "output_type": "execute_result"
    }
   ],
   "source": [
    "maturity = np.array(df_T['Maturity_num'])\n",
    "zero_rate = np.array(df)\n",
    "#transform to ZCB\n",
    "bond = pd.DataFrame(np.exp(-zero_rate * maturity.reshape(1, -1)), columns=df.columns, index=df.index)\n",
    "bond.head()"
   ]
  },
  {
   "cell_type": "code",
   "execution_count": 28,
   "metadata": {},
   "outputs": [],
   "source": [
    "#輸入參數（為了跑圖）\n",
    "\n",
    "#目標日期\n",
    "target_date = '2023-06-05'\n",
    "\n",
    "#第幾筆資料\n",
    "i = df.index.get_loc(target_date)\n",
    "\n",
    "#時間間隔\n",
    "dt = 1/365\n",
    "\n",
    "#speed of mean reversion\n",
    "kappa = 0.5\n",
    "#0.255(校正結果)\n",
    "\n",
    "#instantaneous volatility\n",
    "sigma = 0.3\n",
    "#0.343(校正結果)\n",
    "\n",
    "# use ?M as short rate\n",
    "short_rate = np.array(df['3 Mo'])\n",
    "\n",
    "#模擬路徑(條)\n",
    "path = 10"
   ]
  },
  {
   "cell_type": "code",
   "execution_count": 29,
   "metadata": {},
   "outputs": [],
   "source": [
    "# # Zero Coupon Bond Price\n",
    "# plt.figure(figsize=(8,4))\n",
    "# T = np.arange(maturity[0],maturity[-1],dt)\n",
    "\n",
    "# plt.plot(maturity ,bond.iloc[i],'o-')\n",
    "# plt.grid()\n",
    "# plt.xlabel('time to Maturity(Year)')\n",
    "# plt.ylabel('Discount Factor')\n",
    "# plt.title('Zero Coupon Bond Price (%s)'% df.index[i])\n",
    "# plt.show()"
   ]
  },
  {
   "attachments": {},
   "cell_type": "markdown",
   "metadata": {},
   "source": [
    "### Calibration of $\\theta(t)$"
   ]
  },
  {
   "cell_type": "code",
   "execution_count": 30,
   "metadata": {},
   "outputs": [],
   "source": [
    "# 定義 spot rate\n",
    "def R(coef, t):\n",
    "    \"\"\"\n",
    "    Cubic polynomial method\n",
    "    R(0,t) = b0 + b1 * t + b2 * t^2 + b3 * t^3\n",
    "    \"\"\"\n",
    "    b0, b1, b2 ,b3 = coef\n",
    "    return b0 + b1 * t + b2 * (t**2) + b3 * (t**3)\n",
    "\n",
    "def residual(coef, r, t):\n",
    "    return r - R(coef, t)\n",
    "\n",
    "# 定義 instantaneous forward rate\n",
    "def f(coef,t):\n",
    "    \"\"\"f(0,t) = b0 + 2*b1 * t + 3*b2 * t^2 + 4*b3 * t^3\"\"\"\n",
    "    b0, b1, b2, b3 = coef\n",
    "    return b0 + 2*b1 * t + 3*b2 * (t**2) + 4*b3 * (t**3)\n",
    "\n",
    "# 定義 Long-term average level\n",
    "def theta(coef,t,kappa,sigma):\n",
    "    b0, b1, b2, b3 = coef\n",
    "    return (b0 + 2*b1/kappa) + 2*(b1 + 3*b2/kappa) * t + 3*(b2 + 4*b3/kappa) * (t**2) + 4*b3 * (t**3) + (sigma**2/(2*(kappa**2)))*(1 - np.exp(-2*kappa*t))\n",
    "\n",
    "\n",
    "# least square method\n",
    "N = len(df.index)#資料筆數\n",
    "\n",
    "#initial value\n",
    "x0 = np.array([1,1,1,1],dtype=float)\n",
    "coef_cubic = np.zeros((N,4))\n",
    "\n",
    "for i in range(N):\n",
    "    coef_cubic[i] = leastsq(residual, x0, args=(zero_rate[i], maturity))[0]"
   ]
  },
  {
   "cell_type": "code",
   "execution_count": 31,
   "metadata": {},
   "outputs": [
    {
     "data": {
      "text/plain": [
       "(4,)"
      ]
     },
     "execution_count": 31,
     "metadata": {},
     "output_type": "execute_result"
    }
   ],
   "source": [
    "coef_cubic[i].shape"
   ]
  },
  {
   "cell_type": "code",
   "execution_count": 32,
   "metadata": {},
   "outputs": [
    {
     "data": {
      "image/png": "[encoded data removed]",
      "text/plain": [
       "<Figure size 800x400 with 1 Axes>"
      ]
     },
     "metadata": {},
     "output_type": "display_data"
    }
   ],
   "source": [
    "# Calibration\n",
    "plt.figure(figsize=(8,4))\n",
    "T = np.arange(maturity[0],maturity[-1],dt)\n",
    "\n",
    "plt.plot(maturity ,zero_rate[i],'o-',label='market')\n",
    "plt.plot(T,R(coef_cubic[i], T),label='Cubic Polynomials')\n",
    "plt.legend()\n",
    "plt.grid()\n",
    "plt.xlabel('time to Maturity(Year)')\n",
    "plt.ylabel('Spot Rate')\n",
    "plt.title('Calibration curve (%s)'% df.index[-1])\n",
    "plt.show()"
   ]
  },
  {
   "cell_type": "code",
   "execution_count": 33,
   "metadata": {},
   "outputs": [
    {
     "data": {
      "image/png": "[encoded data removed]",
      "text/plain": [
       "<Figure size 800x400 with 1 Axes>"
      ]
     },
     "metadata": {},
     "output_type": "display_data"
    }
   ],
   "source": [
    "# Forward Rate\n",
    "plt.figure(figsize=(8,4))\n",
    "T = np.arange(maturity[0],maturity[-1],dt)\n",
    "\n",
    "plt.plot(T,R(coef_cubic[i], T),label='spot rate')\n",
    "plt.plot(T,f(coef_cubic[i], T),label='forward rate')\n",
    "plt.legend()\n",
    "plt.grid()\n",
    "plt.xlabel('time to Maturity(Year)')\n",
    "plt.ylabel('Rate')\n",
    "plt.title('Spot Rate & Forward Rate (%s)'% df.index[i])\n",
    "plt.show()"
   ]
  },
  {
   "cell_type": "code",
   "execution_count": 34,
   "metadata": {},
   "outputs": [
    {
     "data": {
      "image/png": "[encoded data removed]",
      "text/plain": [
       "<Figure size 800x400 with 1 Axes>"
      ]
     },
     "metadata": {},
     "output_type": "display_data"
    }
   ],
   "source": [
    "# Long-term mean level \n",
    "T = np.arange(maturity[0],maturity[-1],dt)\n",
    "\n",
    "plt.figure(figsize=(8,4))\n",
    "plt.plot(T,theta(coef_cubic[i],T,kappa,sigma),label='θ(t)')\n",
    "# plt.legend()\n",
    "plt.grid()\n",
    "plt.xlabel('time to Maturity(Year)')\n",
    "plt.ylabel('θ(t)')\n",
    "plt.title('Long-term mean level (%s)'% df.index[i])\n",
    "plt.show()"
   ]
  },
  {
   "attachments": {},
   "cell_type": "markdown",
   "metadata": {},
   "source": [
    "### test 123"
   ]
  },
  {
   "cell_type": "code",
   "execution_count": 11,
   "metadata": {},
   "outputs": [],
   "source": [
    "# Define log-normal BK model equation\n",
    "def bk_lognormal(r, t, kappa, sigma, theta):\n",
    "    dt = t\n",
    "    drift = kappa * (theta - np.log(r)) * dt\n",
    "    diffusion = sigma * np.sqrt(dt) * np.random.normal()\n",
    "    return r * np.exp(drift + diffusion)\n",
    "\n",
    "# Define log-likelihood function for log-normal BK model\n",
    "def log_likelihood_lognormal(params, data):\n",
    "    kappa, sigma, theta = params\n",
    "    r0 = data.iloc[0]['3 Mo']\n",
    "    T = len(data)\n",
    "    r = np.zeros(T)\n",
    "    r[0] = r0\n",
    "    for i in range(1, T):\n",
    "        t = i\n",
    "        r[i] = bk_lognormal(r[i-1], t, kappa, sigma, theta)\n",
    "    p = np.exp(-data.index * r) / np.exp(-data.index * r[-1])\n",
    "    error = np.log(data['3 Mo']) - np.log(p * 100)\n",
    "    return -np.sum(np.log(1 / (data['3 Mo'] * np.sqrt(2 * np.pi))) - 0.5 * (error / data['3 Mo'])**2)"
   ]
  },
  {
   "cell_type": "code",
   "execution_count": 17,
   "metadata": {},
   "outputs": [],
   "source": [
    "params = x0\n",
    "data = df.reset_index()[['Date','3 Mo']][70:100]\n",
    "kappa, sigma, theta = params\n",
    "r0 = data.iloc[0]['3 Mo']\n",
    "T = len(data)\n",
    "r = np.zeros(T)\n",
    "r[0] = r0\n",
    "for i in range(1, T):\n",
    "    t = i\n",
    "    r[i] = bk_lognormal(r[i-1], t, kappa, sigma, theta)\n",
    "p = np.exp(-data.index * r) / np.exp(-data.index * r[-1])\n",
    "error = np.log(data['3 Mo']) - np.log(p * 100)"
   ]
  },
  {
   "cell_type": "code",
   "execution_count": 12,
   "metadata": {},
   "outputs": [
    {
     "data": {
      "text/plain": [
       "array([0.0544, 0.0546, 0.055 , 0.055 , 0.0552, 0.0555, 0.0534, 0.0538,\n",
       "       0.0537, 0.0534, 0.054 , 0.0529, 0.0531, 0.0526, 0.0523, 0.0521,\n",
       "       0.0525, 0.052 , 0.0524, 0.0529, 0.0531, 0.0526, 0.0526, 0.0526,\n",
       "       0.0524, 0.0527, 0.051 , 0.0518, 0.0516, 0.0512, 0.052 , 0.0514,\n",
       "       0.0512, 0.0516, 0.052 , 0.0521, 0.0514, 0.051 , 0.0502, 0.0504,\n",
       "       0.0508, 0.0495, 0.0491, 0.0486, 0.0488, 0.049 , 0.0485, 0.0497,\n",
       "       0.048 , 0.048 , 0.0491, 0.0474, 0.0473, 0.0479, 0.0478, 0.0481,\n",
       "       0.0452, 0.0474, 0.0475, 0.0488, 0.0487, 0.0501, 0.0505, 0.0506,\n",
       "       0.0504, 0.0493, 0.0491, 0.0491, 0.049 , 0.0488, 0.0489, 0.0486,\n",
       "       0.0484, 0.0484, 0.0486, 0.0484, 0.0484, 0.0479, 0.048 , 0.0481,\n",
       "       0.0479, 0.0477, 0.0472, 0.0471, 0.0471, 0.047 , 0.0466, 0.0466,\n",
       "       0.047 , 0.0472, 0.0473, 0.0471, 0.0472, 0.0472, 0.0473, 0.0472,\n",
       "       0.0471, 0.0469, 0.0471, 0.0467, 0.0466, 0.0472, 0.0473, 0.047 ,\n",
       "       0.0467, 0.0466, 0.0455, 0.0453])"
      ]
     },
     "execution_count": 12,
     "metadata": {},
     "output_type": "execute_result"
    }
   ],
   "source": [
    "df['3 Mo'][:].values"
   ]
  },
  {
   "cell_type": "code",
   "execution_count": 5,
   "metadata": {},
   "outputs": [
    {
     "data": {
      "text/html": [
       "<div>\n",
       "<style scoped>\n",
       "    .dataframe tbody tr th:only-of-type {\n",
       "        vertical-align: middle;\n",
       "    }\n",
       "\n",
       "    .dataframe tbody tr th {\n",
       "        vertical-align: top;\n",
       "    }\n",
       "\n",
       "    .dataframe thead th {\n",
       "        text-align: right;\n",
       "    }\n",
       "</style>\n",
       "<table border=\"1\" class=\"dataframe\">\n",
       "  <thead>\n",
       "    <tr style=\"text-align: right;\">\n",
       "      <th></th>\n",
       "      <th>Date</th>\n",
       "      <th>3 Mo</th>\n",
       "    </tr>\n",
       "  </thead>\n",
       "  <tbody>\n",
       "    <tr>\n",
       "      <th>0</th>\n",
       "      <td>2023-06-06</td>\n",
       "      <td>0.0544</td>\n",
       "    </tr>\n",
       "    <tr>\n",
       "      <th>1</th>\n",
       "      <td>2023-06-05</td>\n",
       "      <td>0.0546</td>\n",
       "    </tr>\n",
       "    <tr>\n",
       "      <th>2</th>\n",
       "      <td>2023-06-02</td>\n",
       "      <td>0.0550</td>\n",
       "    </tr>\n",
       "    <tr>\n",
       "      <th>3</th>\n",
       "      <td>2023-06-01</td>\n",
       "      <td>0.0550</td>\n",
       "    </tr>\n",
       "    <tr>\n",
       "      <th>4</th>\n",
       "      <td>2023-05-31</td>\n",
       "      <td>0.0552</td>\n",
       "    </tr>\n",
       "    <tr>\n",
       "      <th>...</th>\n",
       "      <td>...</td>\n",
       "      <td>...</td>\n",
       "    </tr>\n",
       "    <tr>\n",
       "      <th>103</th>\n",
       "      <td>2023-01-09</td>\n",
       "      <td>0.0470</td>\n",
       "    </tr>\n",
       "    <tr>\n",
       "      <th>104</th>\n",
       "      <td>2023-01-06</td>\n",
       "      <td>0.0467</td>\n",
       "    </tr>\n",
       "    <tr>\n",
       "      <th>105</th>\n",
       "      <td>2023-01-05</td>\n",
       "      <td>0.0466</td>\n",
       "    </tr>\n",
       "    <tr>\n",
       "      <th>106</th>\n",
       "      <td>2023-01-04</td>\n",
       "      <td>0.0455</td>\n",
       "    </tr>\n",
       "    <tr>\n",
       "      <th>107</th>\n",
       "      <td>2023-01-03</td>\n",
       "      <td>0.0453</td>\n",
       "    </tr>\n",
       "  </tbody>\n",
       "</table>\n",
       "<p>108 rows × 2 columns</p>\n",
       "</div>"
      ],
      "text/plain": [
       "          Date    3 Mo\n",
       "0   2023-06-06  0.0544\n",
       "1   2023-06-05  0.0546\n",
       "2   2023-06-02  0.0550\n",
       "3   2023-06-01  0.0550\n",
       "4   2023-05-31  0.0552\n",
       "..         ...     ...\n",
       "103 2023-01-09  0.0470\n",
       "104 2023-01-06  0.0467\n",
       "105 2023-01-05  0.0466\n",
       "106 2023-01-04  0.0455\n",
       "107 2023-01-03  0.0453\n",
       "\n",
       "[108 rows x 2 columns]"
      ]
     },
     "execution_count": 5,
     "metadata": {},
     "output_type": "execute_result"
    }
   ],
   "source": [
    "# df.reset_index()[['Date','3 Mo']]"
   ]
  },
  {
   "cell_type": "code",
   "execution_count": 16,
   "metadata": {},
   "outputs": [
    {
     "name": "stderr",
     "output_type": "stream",
     "text": [
      "/home/akilin/anaconda3/envs/gamma/lib/python3.7/site-packages/ipykernel_launcher.py:19: RuntimeWarning: divide by zero encountered in log\n"
     ]
    },
    {
     "name": "stdout",
     "output_type": "stream",
     "text": [
      "Estimated parameters:\n",
      "kappa = 0.1\n",
      "sigma = 0.01\n",
      "theta = 0.05\n"
     ]
    }
   ],
   "source": [
    "# Define initial parameter values and bounds\n",
    "x0 = [0.1, 0.01, 0.05]\n",
    "#bounds = [(0, None), (0, None), (None, None)]\n",
    "\n",
    "# Sort the data by 'Date'\n",
    "#df.sort_values('Date', inplace=True)\n",
    "\n",
    "# Reset the index\n",
    "#df.reset_index(drop=True, inplace=True)\n",
    "\n",
    "# Estimate parameters using MLE\n",
    "result = minimize(log_likelihood_lognormal, x0, args=(df.reset_index()[['Date','3 Mo']][70:100]))\n",
    "kappa, sigma, theta = result.x\n",
    "\n",
    "print('Estimated parameters:')\n",
    "print('kappa =', kappa)\n",
    "print('sigma =', sigma)\n",
    "print('theta =', theta)"
   ]
  },
  {
   "attachments": {},
   "cell_type": "markdown",
   "metadata": {},
   "source": [
    "### Plot 3Mo rate data"
   ]
  },
  {
   "cell_type": "code",
   "execution_count": null,
   "metadata": {},
   "outputs": [
    {
     "data": {
      "text/plain": [
       "<function __main__.theta(coef, t, kappa, sigma)>"
      ]
     },
     "execution_count": 55,
     "metadata": {},
     "output_type": "execute_result"
    }
   ],
   "source": [
    "theta() "
   ]
  },
  {
   "cell_type": "code",
   "execution_count": null,
   "metadata": {},
   "outputs": [
    {
     "data": {
      "text/plain": [
       "array([0.0144    , 0.0144403 , 0.01445505, ..., 0.0883024 , 0.08849938,\n",
       "       0.08872307])"
      ]
     },
     "execution_count": 61,
     "metadata": {},
     "output_type": "execute_result"
    }
   ],
   "source": [
    "def black_karasinski(r0:float, n: int, dt:float, theta:np.array, sigma:np.array, kappa:float):\n",
    "    \"\"\"\"\"\n",
    "    Simulate the Black-Karasinski short-rate model\n",
    "    \n",
    "    Args:\n",
    "        r0(float): initial short-rate value\n",
    "        n(int): number of time step\n",
    "        dt(float): time step size\n",
    "        theta(ndarray): array of mean-reversion levels for each time step\n",
    "        sigma(ndarray): array of volatility values for each time step\n",
    "        kappa(float): array of mean-reversion speed values\n",
    "        \n",
    "    Return:\n",
    "        ndarray: array of simulated short-rate values \n",
    "    \"\"\"\"\"\n",
    "    r = np.zeros(n)\n",
    "    r[0] = r0\n",
    "    for i in range(1,n):\n",
    "        ri_1Ln = np.log(r[i-1])\n",
    "        driLn = theta[i-1] - kappa[i-1]*ri_1Ln\n",
    "        riLn = ri_1Ln + driLn*dt +sigma[i-1]*np.sqrt(dt)*np.random.normal()\n",
    "        r[i] = np.exp(riLn)\n",
    "    return r\n",
    "T = np.arange(maturity[0],maturity[-1],dt)\n",
    "r0 = df['3 Mo'][0]\n",
    "n = len(df.index)\n",
    "dt = 1/365\n",
    "kappa = np.ones(n)*0.1\n",
    "sigma = np.ones(n)*0.01\n",
    "theta = np.linspace(0.05, 0.25, n)\n",
    "rate = black_karasinski(r0, n, dt, theta, sigma, kappa)\n",
    "rate\n"
   ]
  },
  {
   "cell_type": "code",
   "execution_count": null,
   "metadata": {},
   "outputs": [
    {
     "data": {
      "text/plain": [
       "Text(0.5, 1.0, '3Mo rate')"
      ]
     },
     "execution_count": 62,
     "metadata": {},
     "output_type": "execute_result"
    },
    {
     "data": {
      "image/png": "[encoded data removed]",
      "text/plain": [
       "<Figure size 640x480 with 1 Axes>"
      ]
     },
     "metadata": {},
     "output_type": "display_data"
    }
   ],
   "source": [
    "plt.plot(df['3 Mo'])\n",
    "plt.plot(df.index,rate)\n",
    "plt.xlabel('time')\n",
    "plt.ylabel('rate')\n",
    "plt.title('3Mo rate')"
   ]
  },
  {
   "cell_type": "code",
   "execution_count": null,
   "metadata": {},
   "outputs": [],
   "source": [
    "from scipy.optimize import minimize\n",
    "\n",
    "# Given interest rate data\n",
    "data = [\n",
    "    [5.25, 5.35, 5.46, 5.47, 5.46, 5.17, 4.46, 4.10, 3.82, 3.77, 3.69, 4.03, 3.89],\n",
    "    [5.28, 5.39, 5.50, 5.52, 5.50, 5.22, 4.50, 4.13, 3.84, 3.78, 3.69, 4.03, 3.88],\n",
    "    # Add the rest of your data here\n",
    "]\n",
    "\n",
    "# Convert rates to continuously compounded rates\n",
    "compounded_rates = np.log(np.array(data) / 100)\n",
    "\n",
    "# Set initial spot rate (r0)\n",
    "r0 = compounded_rates[0][0]\n",
    "\n",
    "# Define the objective function to minimize\n",
    "def objective(params):\n",
    "    a, sigma = params\n",
    "    squared_diff_sum = 0\n",
    "    \n",
    "    for i in range(1, len(compounded_rates)):\n",
    "        T = i / 12  # Assuming monthly data, divide by 12 to get years\n",
    "        theta = compounded_rates[i-1]  # theta at time t is (t-1) real rate\n",
    "        model_rate = r0 * np.exp(theta * T - a * (1 - np.exp(-a * T)) / a + sigma**2 * (1 - np.exp(-2 * a * T)) / (4 * a))\n",
    "        squared_diff_sum += (model_rate - compounded_rates[i])**2\n",
    "    \n",
    "    return squared_diff_sum\n",
    "\n",
    "# Initial guess for parameters\n",
    "initial_params = [0, 0]\n",
    "\n",
    "# Minimize the objective function to calibrate parameters\n",
    "result = minimize(objective, initial_params, method='Nelder-Mead')\n",
    "\n",
    "# Extract the calibrated parameters\n",
    "calibrated_params = result.x\n",
    "a, sigma = calibrated_params\n",
    "\n",
    "print(\"Calibrated Parameters:\")\n",
    "print(\"a:\", a)\n",
    "print(\"Sigma:\", sigma)\n"
   ]
  },
  {
   "attachments": {},
   "cell_type": "markdown",
   "metadata": {},
   "source": [
    "###  Black-Karasinski Model "
   ]
  },
  {
   "cell_type": "code",
   "execution_count": null,
   "metadata": {},
   "outputs": [],
   "source": [
    "def black_karasinski_trinomial_tree(r0, kappa, theta, sigma, T, num_steps, num_paths):\n",
    "    dt = T / num_steps\n",
    "    sqrtdt = np.sqrt(dt)\n",
    "    \n",
    "    interest_rates = np.zeros((num_steps, num_paths))\n",
    "    interest_rates[0] = r0\n",
    "    \n",
    "    for i in range(num_steps):\n",
    "        dW = np.random.normal(size=(3, num_paths))\n",
    "        \n",
    "        vol_up = sigma[i] * np.exp(theta * interest_rates[i]) * sqrtdt\n",
    "        vol_down = -sigma[i] * np.exp(theta * interest_rates[i]) * sqrtdt\n",
    "        vol_unchanged = np.zeros_like(vol_up)\n",
    "        \n",
    "        dR = np.zeros_like(dW)\n",
    "        dR[0] = vol_down * dW[0]\n",
    "        dR[1] = vol_unchanged * dW[1]\n",
    "        dR[2] = vol_up * dW[2]\n",
    "        \n",
    "        interest_rates[i+1] = interest_rates[i] + kappa * (theta - interest_rates[i]) * dt + np.sum(dR, axis=0)\n",
    "    \n",
    "    return interest_rates"
   ]
  },
  {
   "cell_type": "code",
   "execution_count": null,
   "metadata": {},
   "outputs": [
    {
     "ename": "IndexError",
     "evalue": "index 3 is out of bounds for axis 0 with size 3",
     "output_type": "error",
     "traceback": [
      "\u001b[1;31m---------------------------------------------------------------------------\u001b[0m",
      "\u001b[1;31mIndexError\u001b[0m                                Traceback (most recent call last)",
      "Cell \u001b[1;32mIn[19], line 10\u001b[0m\n\u001b[0;32m      7\u001b[0m num_steps \u001b[39m=\u001b[39m \u001b[39m3\u001b[39m\n\u001b[0;32m      8\u001b[0m num_paths \u001b[39m=\u001b[39m \u001b[39m1000\u001b[39m\n\u001b[1;32m---> 10\u001b[0m simulated_rates \u001b[39m=\u001b[39m black_karasinski_trinomial_tree(r0, kappa, theta, sigma, T, num_steps, num_paths)\n\u001b[0;32m     12\u001b[0m \u001b[39m# Print the simulated interest rate paths\u001b[39;00m\n\u001b[0;32m     13\u001b[0m \u001b[39mfor\u001b[39;00m i \u001b[39min\u001b[39;00m \u001b[39mrange\u001b[39m(num_paths):\n",
      "Cell \u001b[1;32mIn[18], line 20\u001b[0m, in \u001b[0;36mblack_karasinski_trinomial_tree\u001b[1;34m(r0, kappa, theta, sigma, T, num_steps, num_paths)\u001b[0m\n\u001b[0;32m     17\u001b[0m     dR[\u001b[39m1\u001b[39m] \u001b[39m=\u001b[39m vol_unchanged \u001b[39m*\u001b[39m dW[\u001b[39m1\u001b[39m]\n\u001b[0;32m     18\u001b[0m     dR[\u001b[39m2\u001b[39m] \u001b[39m=\u001b[39m vol_up \u001b[39m*\u001b[39m dW[\u001b[39m2\u001b[39m]\n\u001b[1;32m---> 20\u001b[0m     interest_rates[i\u001b[39m+\u001b[39m\u001b[39m1\u001b[39m] \u001b[39m=\u001b[39m interest_rates[i] \u001b[39m+\u001b[39m kappa \u001b[39m*\u001b[39m (theta \u001b[39m-\u001b[39m interest_rates[i]) \u001b[39m*\u001b[39m dt \u001b[39m+\u001b[39m np\u001b[39m.\u001b[39msum(dR, axis\u001b[39m=\u001b[39m\u001b[39m0\u001b[39m)\n\u001b[0;32m     22\u001b[0m \u001b[39mreturn\u001b[39;00m interest_rates\n",
      "\u001b[1;31mIndexError\u001b[0m: index 3 is out of bounds for axis 0 with size 3"
     ]
    }
   ],
   "source": [
    "# Example usage\n",
    "r0 = df['3 Mo'][0]\n",
    "kappa = 0.1\n",
    "theta = 0.05\n",
    "sigma = [0.02, 0.03, 0.04]  # Volatility at each time step\n",
    "T = 1\n",
    "num_steps = len(df)\n",
    "num_paths = 1000\n",
    "\n",
    "simulated_rates = black_karasinski_trinomial_tree(r0, kappa, theta, sigma, T, num_steps, num_paths)\n",
    "\n",
    "# Print the simulated interest rate paths\n",
    "for i in range(num_paths):\n",
    "    print(simulated_rates[:, i])"
   ]
  },
  {
   "cell_type": "code",
   "execution_count": null,
   "metadata": {},
   "outputs": [],
   "source": []
  },
  {
   "cell_type": "code",
   "execution_count": null,
   "metadata": {},
   "outputs": [
    {
     "name": "stdout",
     "output_type": "stream",
     "text": [
      "Estimated parameters:\n",
      "kappa = 0.1\n",
      "sigma = 0.01\n",
      "theta = 0.05\n"
     ]
    },
    {
     "name": "stderr",
     "output_type": "stream",
     "text": [
      "C:\\Users\\johnn\\AppData\\Local\\Temp\\ipykernel_18292\\395066298.py:4: RuntimeWarning: divide by zero encountered in log\n",
      "  drift = kappa * (theta - np.log(r)) * dt\n",
      "C:\\Users\\johnn\\AppData\\Local\\Temp\\ipykernel_18292\\395066298.py:6: RuntimeWarning: invalid value encountered in double_scalars\n",
      "  return r * np.exp(drift + diffusion)\n",
      "c:\\Users\\johnn\\anaconda3\\envs\\tf_2.3_py_3.7\\lib\\site-packages\\pandas\\core\\arraylike.py:402: RuntimeWarning: divide by zero encountered in log\n",
      "  result = getattr(ufunc, method)(*inputs, **kwargs)\n",
      "C:\\Users\\johnn\\AppData\\Local\\Temp\\ipykernel_18292\\395066298.py:4: RuntimeWarning: divide by zero encountered in log\n",
      "  drift = kappa * (theta - np.log(r)) * dt\n",
      "C:\\Users\\johnn\\AppData\\Local\\Temp\\ipykernel_18292\\395066298.py:6: RuntimeWarning: invalid value encountered in double_scalars\n",
      "  return r * np.exp(drift + diffusion)\n",
      "c:\\Users\\johnn\\anaconda3\\envs\\tf_2.3_py_3.7\\lib\\site-packages\\pandas\\core\\arraylike.py:402: RuntimeWarning: divide by zero encountered in log\n",
      "  result = getattr(ufunc, method)(*inputs, **kwargs)\n",
      "C:\\Users\\johnn\\AppData\\Local\\Temp\\ipykernel_18292\\395066298.py:6: RuntimeWarning: overflow encountered in exp\n",
      "  return r * np.exp(drift + diffusion)\n",
      "C:\\Users\\johnn\\AppData\\Local\\Temp\\ipykernel_18292\\395066298.py:6: RuntimeWarning: invalid value encountered in double_scalars\n",
      "  return r * np.exp(drift + diffusion)\n",
      "c:\\Users\\johnn\\anaconda3\\envs\\tf_2.3_py_3.7\\lib\\site-packages\\pandas\\core\\arraylike.py:402: RuntimeWarning: divide by zero encountered in log\n",
      "  result = getattr(ufunc, method)(*inputs, **kwargs)\n",
      "C:\\Users\\johnn\\AppData\\Local\\Temp\\ipykernel_18292\\395066298.py:6: RuntimeWarning: overflow encountered in exp\n",
      "  return r * np.exp(drift + diffusion)\n",
      "C:\\Users\\johnn\\AppData\\Local\\Temp\\ipykernel_18292\\395066298.py:6: RuntimeWarning: invalid value encountered in double_scalars\n",
      "  return r * np.exp(drift + diffusion)\n",
      "c:\\Users\\johnn\\anaconda3\\envs\\tf_2.3_py_3.7\\lib\\site-packages\\pandas\\core\\arraylike.py:402: RuntimeWarning: divide by zero encountered in log\n",
      "  result = getattr(ufunc, method)(*inputs, **kwargs)\n"
     ]
    }
   ],
   "source": []
  },
  {
   "cell_type": "code",
   "execution_count": null,
   "metadata": {},
   "outputs": [
    {
     "data": {
      "text/plain": [
       "array([1.44000000e+00, 5.93682343e-38,            inf, ...,\n",
       "                  nan,            nan,            nan])"
      ]
     },
     "execution_count": 61,
     "metadata": {},
     "output_type": "execute_result"
    }
   ],
   "source": [
    "predicted_values"
   ]
  },
  {
   "cell_type": "code",
   "execution_count": null,
   "metadata": {},
   "outputs": [
    {
     "data": {
      "text/plain": [
       "Date            2018-01-02 00:00:00\n",
       "3 Mo                           1.44\n",
       "3_Mo_percent                 0.0144\n",
       "Name: 0, dtype: object"
      ]
     },
     "execution_count": 58,
     "metadata": {},
     "output_type": "execute_result"
    }
   ],
   "source": [
    "df.iloc[0]"
   ]
  },
  {
   "cell_type": "code",
   "execution_count": null,
   "metadata": {},
   "outputs": [],
   "source": []
  },
  {
   "cell_type": "code",
   "execution_count": null,
   "metadata": {},
   "outputs": [
    {
     "name": "stdout",
     "output_type": "stream",
     "text": [
      "(1357,) DatetimeIndex(['2018-01-02', '2018-01-03', '2018-01-04', '2018-01-05',\n",
      "               '2018-01-08', '2018-01-09', '2018-01-10', '2018-01-11',\n",
      "               '2018-01-12', '2018-01-16',\n",
      "               ...\n",
      "               '2023-05-22', '2023-05-23', '2023-05-24', '2023-05-25',\n",
      "               '2023-05-26', '2023-05-30', '2023-05-31', '2023-06-01',\n",
      "               '2023-06-02', '2023-06-05'],\n",
      "              dtype='datetime64[ns]', name='Date', length=1357, freq=None)\n"
     ]
    }
   ],
   "source": [
    "import numpy as np\n",
    "\n",
    "def black_karasinski_simulation(r0, T, N, a, sigma, theta):\n",
    "    dt = T / N\n",
    "    sqrt_dt = np.sqrt(dt)\n",
    "    \n",
    "    r = np.zeros(N+1)\n",
    "    r[0] = r0\n",
    "    \n",
    "    for i in range(N):\n",
    "        dW = np.random.normal(0, sqrt_dt)\n",
    "        drift = theta[i] - a * r[i]\n",
    "        diffusion = sigma * dW\n",
    "        r[i+1] = r[i] + drift * dt + diffusion\n",
    "    \n",
    "    return r\n",
    "\n",
    "# Parameters\n",
    "r0 = df['3 Mo'][0]  # Initial short rate\n",
    "T = 1.0  # Time to maturity\n",
    "N = len(df.index)  # Number of time steps\n",
    "a = 0.1  # Speed of mean reversion\n",
    "sigma = 0.02  # Volatility\n",
    "theta = np.linspace(0.05, 0.1, N)  # Mean reversion level\n",
    "\n",
    "# Simulation\n",
    "simulation = black_karasinski_simulation(r0, T, N, a, sigma, theta)\n",
    "\n",
    "# Print the simulated short rate values\n",
    "print(simulation[:-1].shape,df.index)\n"
   ]
  },
  {
   "cell_type": "code",
   "execution_count": null,
   "metadata": {},
   "outputs": [
    {
     "data": {
      "text/plain": [
       "Text(0.5, 1.0, '3Mo rate')"
      ]
     },
     "execution_count": 43,
     "metadata": {},
     "output_type": "execute_result"
    },
    {
     "data": {
      "image/png": "[encoded data removed]",
      "text/plain": [
       "<Figure size 640x480 with 1 Axes>"
      ]
     },
     "metadata": {},
     "output_type": "display_data"
    }
   ],
   "source": [
    "plt.plot(df.index,df['3 Mo'])\n",
    "plt.plot(df.index,simulation[:-1])\n",
    "plt.xlabel('time')\n",
    "plt.ylabel('rate')\n",
    "plt.title('3Mo rate')"
   ]
  },
  {
   "cell_type": "code",
   "execution_count": null,
   "metadata": {},
   "outputs": [
    {
     "data": {
      "text/plain": [
       "[<matplotlib.lines.Line2D at 0x202b3142dc0>]"
      ]
     },
     "execution_count": 14,
     "metadata": {},
     "output_type": "execute_result"
    },
    {
     "data": {
      "image/png": "[encoded data removed]",
      "text/plain": [
       "<Figure size 640x480 with 1 Axes>"
      ]
     },
     "metadata": {},
     "output_type": "display_data"
    }
   ],
   "source": [
    "plt.plot(simulation)"
   ]
  },
  {
   "cell_type": "code",
   "execution_count": null,
   "metadata": {},
   "outputs": [],
   "source": [
    "import numpy as np\n",
    "\n",
    "def trinomial_tree(r0, alpha, theta, sigma, a, T, N):\n",
    "    dt = T / N\n",
    "\n",
    "    # Create the tree array\n",
    "    tree = np.zeros((N+1, 2*N+1))\n",
    "    tree[0, N] = r0\n",
    "\n",
    "    # Create the probability array\n",
    "    P = np.zeros((N+1, 2*N+1))\n",
    "    P[0, N] = 1.0\n",
    "\n",
    "    # Calculate the drift term\n",
    "    theta_i = np.zeros(N+1)\n",
    "    for i in range(N+1):\n",
    "        theta_i[i] = theta + (alpha - theta) * np.exp(-a * i * dt)\n",
    "\n",
    "    # Build the tree\n",
    "    for i in range(1, N+1):\n",
    "        for j in range(N-i+1, N+i):\n",
    "            tree[i, j] = tree[i-1, j-1] + theta_i[i-1] * dt\n",
    "\n",
    "    # Calculate the discount factors\n",
    "    discount_factors = np.exp(-np.sum(tree, axis=0) * dt)\n",
    "\n",
    "    return tree, discount_factors\n"
   ]
  },
  {
   "cell_type": "code",
   "execution_count": null,
   "metadata": {},
   "outputs": [],
   "source": [
    "# Test the code\n",
    "np.random.seed(42)\n",
    "r0 = 0.05\n",
    "alpha = 0.1\n",
    "theta = 0.05\n",
    "sigma = 0.2\n",
    "a = 0.1\n",
    "T = 1.0\n",
    "N = 100\n",
    "\n",
    "r_tree, discount_factors = trinomial_tree(r0, alpha, theta, sigma, a, T, N)\n"
   ]
  },
  {
   "cell_type": "code",
   "execution_count": null,
   "metadata": {},
   "outputs": [
    {
     "data": {
      "text/plain": [
       "[<matplotlib.lines.Line2D at 0x1facca562b0>]"
      ]
     },
     "execution_count": 59,
     "metadata": {},
     "output_type": "execute_result"
    },
    {
     "data": {
      "image/png": "[encoded data removed]",
      "text/plain": [
       "<Figure size 640x480 with 1 Axes>"
      ]
     },
     "metadata": {},
     "output_type": "display_data"
    }
   ],
   "source": [
    "plt.plot(discount_factors)"
   ]
  },
  {
   "cell_type": "code",
   "execution_count": null,
   "metadata": {},
   "outputs": [],
   "source": []
  },
  {
   "cell_type": "code",
   "execution_count": null,
   "metadata": {},
   "outputs": [
    {
     "ename": "ValueError",
     "evalue": "x and y must have same first dimension, but have shapes (1,) and (201,)",
     "output_type": "error",
     "traceback": [
      "\u001b[1;31m---------------------------------------------------------------------------\u001b[0m",
      "\u001b[1;31mValueError\u001b[0m                                Traceback (most recent call last)",
      "Cell \u001b[1;32mIn[57], line 4\u001b[0m\n\u001b[0;32m      2\u001b[0m plt\u001b[39m.\u001b[39mfigure(figsize\u001b[39m=\u001b[39m(\u001b[39m8\u001b[39m,\u001b[39m4\u001b[39m))\n\u001b[0;32m      3\u001b[0m plt\u001b[39m.\u001b[39mplot(maturity ,bond\u001b[39m.\u001b[39miloc[i],\u001b[39m'\u001b[39m\u001b[39mo\u001b[39m\u001b[39m'\u001b[39m,label\u001b[39m=\u001b[39m\u001b[39m'\u001b[39m\u001b[39mmarket\u001b[39m\u001b[39m'\u001b[39m)\n\u001b[1;32m----> 4\u001b[0m plt\u001b[39m.\u001b[39;49mplot(T ,discount_factors,label\u001b[39m=\u001b[39;49m\u001b[39m'\u001b[39;49m\u001b[39mBK\u001b[39;49m\u001b[39m'\u001b[39;49m)\n\u001b[0;32m      5\u001b[0m plt\u001b[39m.\u001b[39mlegend()\n\u001b[0;32m      6\u001b[0m plt\u001b[39m.\u001b[39mgrid()\n",
      "File \u001b[1;32mc:\\Users\\johnn\\anaconda3\\envs\\tf_2.3_py_3.7\\lib\\site-packages\\matplotlib\\pyplot.py:2812\u001b[0m, in \u001b[0;36mplot\u001b[1;34m(scalex, scaley, data, *args, **kwargs)\u001b[0m\n\u001b[0;32m   2810\u001b[0m \u001b[39m@_copy_docstring_and_deprecators\u001b[39m(Axes\u001b[39m.\u001b[39mplot)\n\u001b[0;32m   2811\u001b[0m \u001b[39mdef\u001b[39;00m \u001b[39mplot\u001b[39m(\u001b[39m*\u001b[39margs, scalex\u001b[39m=\u001b[39m\u001b[39mTrue\u001b[39;00m, scaley\u001b[39m=\u001b[39m\u001b[39mTrue\u001b[39;00m, data\u001b[39m=\u001b[39m\u001b[39mNone\u001b[39;00m, \u001b[39m*\u001b[39m\u001b[39m*\u001b[39mkwargs):\n\u001b[1;32m-> 2812\u001b[0m     \u001b[39mreturn\u001b[39;00m gca()\u001b[39m.\u001b[39mplot(\n\u001b[0;32m   2813\u001b[0m         \u001b[39m*\u001b[39margs, scalex\u001b[39m=\u001b[39mscalex, scaley\u001b[39m=\u001b[39mscaley,\n\u001b[0;32m   2814\u001b[0m         \u001b[39m*\u001b[39m\u001b[39m*\u001b[39m({\u001b[39m\"\u001b[39m\u001b[39mdata\u001b[39m\u001b[39m\"\u001b[39m: data} \u001b[39mif\u001b[39;00m data \u001b[39mis\u001b[39;00m \u001b[39mnot\u001b[39;00m \u001b[39mNone\u001b[39;00m \u001b[39melse\u001b[39;00m {}), \u001b[39m*\u001b[39m\u001b[39m*\u001b[39mkwargs)\n",
      "File \u001b[1;32mc:\\Users\\johnn\\anaconda3\\envs\\tf_2.3_py_3.7\\lib\\site-packages\\matplotlib\\axes\\_axes.py:1688\u001b[0m, in \u001b[0;36mAxes.plot\u001b[1;34m(self, scalex, scaley, data, *args, **kwargs)\u001b[0m\n\u001b[0;32m   1445\u001b[0m \u001b[39m\"\"\"\u001b[39;00m\n\u001b[0;32m   1446\u001b[0m \u001b[39mPlot y versus x as lines and/or markers.\u001b[39;00m\n\u001b[0;32m   1447\u001b[0m \n\u001b[1;32m   (...)\u001b[0m\n\u001b[0;32m   1685\u001b[0m \u001b[39m(``'green'``) or hex strings (``'#008000'``).\u001b[39;00m\n\u001b[0;32m   1686\u001b[0m \u001b[39m\"\"\"\u001b[39;00m\n\u001b[0;32m   1687\u001b[0m kwargs \u001b[39m=\u001b[39m cbook\u001b[39m.\u001b[39mnormalize_kwargs(kwargs, mlines\u001b[39m.\u001b[39mLine2D)\n\u001b[1;32m-> 1688\u001b[0m lines \u001b[39m=\u001b[39m [\u001b[39m*\u001b[39m\u001b[39mself\u001b[39m\u001b[39m.\u001b[39m_get_lines(\u001b[39m*\u001b[39margs, data\u001b[39m=\u001b[39mdata, \u001b[39m*\u001b[39m\u001b[39m*\u001b[39mkwargs)]\n\u001b[0;32m   1689\u001b[0m \u001b[39mfor\u001b[39;00m line \u001b[39min\u001b[39;00m lines:\n\u001b[0;32m   1690\u001b[0m     \u001b[39mself\u001b[39m\u001b[39m.\u001b[39madd_line(line)\n",
      "File \u001b[1;32mc:\\Users\\johnn\\anaconda3\\envs\\tf_2.3_py_3.7\\lib\\site-packages\\matplotlib\\axes\\_base.py:311\u001b[0m, in \u001b[0;36m_process_plot_var_args.__call__\u001b[1;34m(self, data, *args, **kwargs)\u001b[0m\n\u001b[0;32m    309\u001b[0m     this \u001b[39m+\u001b[39m\u001b[39m=\u001b[39m args[\u001b[39m0\u001b[39m],\n\u001b[0;32m    310\u001b[0m     args \u001b[39m=\u001b[39m args[\u001b[39m1\u001b[39m:]\n\u001b[1;32m--> 311\u001b[0m \u001b[39myield from\u001b[39;00m \u001b[39mself\u001b[39;49m\u001b[39m.\u001b[39;49m_plot_args(\n\u001b[0;32m    312\u001b[0m     this, kwargs, ambiguous_fmt_datakey\u001b[39m=\u001b[39;49mambiguous_fmt_datakey)\n",
      "File \u001b[1;32mc:\\Users\\johnn\\anaconda3\\envs\\tf_2.3_py_3.7\\lib\\site-packages\\matplotlib\\axes\\_base.py:504\u001b[0m, in \u001b[0;36m_process_plot_var_args._plot_args\u001b[1;34m(self, tup, kwargs, return_kwargs, ambiguous_fmt_datakey)\u001b[0m\n\u001b[0;32m    501\u001b[0m     \u001b[39mself\u001b[39m\u001b[39m.\u001b[39maxes\u001b[39m.\u001b[39myaxis\u001b[39m.\u001b[39mupdate_units(y)\n\u001b[0;32m    503\u001b[0m \u001b[39mif\u001b[39;00m x\u001b[39m.\u001b[39mshape[\u001b[39m0\u001b[39m] \u001b[39m!=\u001b[39m y\u001b[39m.\u001b[39mshape[\u001b[39m0\u001b[39m]:\n\u001b[1;32m--> 504\u001b[0m     \u001b[39mraise\u001b[39;00m \u001b[39mValueError\u001b[39;00m(\u001b[39mf\u001b[39m\u001b[39m\"\u001b[39m\u001b[39mx and y must have same first dimension, but \u001b[39m\u001b[39m\"\u001b[39m\n\u001b[0;32m    505\u001b[0m                      \u001b[39mf\u001b[39m\u001b[39m\"\u001b[39m\u001b[39mhave shapes \u001b[39m\u001b[39m{\u001b[39;00mx\u001b[39m.\u001b[39mshape\u001b[39m}\u001b[39;00m\u001b[39m and \u001b[39m\u001b[39m{\u001b[39;00my\u001b[39m.\u001b[39mshape\u001b[39m}\u001b[39;00m\u001b[39m\"\u001b[39m)\n\u001b[0;32m    506\u001b[0m \u001b[39mif\u001b[39;00m x\u001b[39m.\u001b[39mndim \u001b[39m>\u001b[39m \u001b[39m2\u001b[39m \u001b[39mor\u001b[39;00m y\u001b[39m.\u001b[39mndim \u001b[39m>\u001b[39m \u001b[39m2\u001b[39m:\n\u001b[0;32m    507\u001b[0m     \u001b[39mraise\u001b[39;00m \u001b[39mValueError\u001b[39;00m(\u001b[39mf\u001b[39m\u001b[39m\"\u001b[39m\u001b[39mx and y can be no greater than 2D, but have \u001b[39m\u001b[39m\"\u001b[39m\n\u001b[0;32m    508\u001b[0m                      \u001b[39mf\u001b[39m\u001b[39m\"\u001b[39m\u001b[39mshapes \u001b[39m\u001b[39m{\u001b[39;00mx\u001b[39m.\u001b[39mshape\u001b[39m}\u001b[39;00m\u001b[39m and \u001b[39m\u001b[39m{\u001b[39;00my\u001b[39m.\u001b[39mshape\u001b[39m}\u001b[39;00m\u001b[39m\"\u001b[39m)\n",
      "\u001b[1;31mValueError\u001b[0m: x and y must have same first dimension, but have shapes (1,) and (201,)"
     ]
    },
    {
     "data": {
      "image/png": "[encoded data removed]",
      "text/plain": [
       "<Figure size 800x400 with 1 Axes>"
      ]
     },
     "metadata": {},
     "output_type": "display_data"
    }
   ],
   "source": [
    "discount_factors\n",
    "plt.figure(figsize=(8,4))\n",
    "plt.plot(maturity ,bond.iloc[i],'o',label='market')\n",
    "plt.plot(T ,discount_factors,label='BK')\n",
    "plt.legend()\n",
    "plt.grid()\n",
    "plt.xlabel('time to Maturity(Year)')\n",
    "plt.ylabel('Discount Factor')\n",
    "plt.title('Zero Coupon Bond Price (%s)'% df.index[i])\n",
    "plt.show()"
   ]
  },
  {
   "cell_type": "code",
   "execution_count": null,
   "metadata": {},
   "outputs": [],
   "source": [
    "def newton_raphson(f, df, x0, tol=1e-6, max_iter=100):\n",
    "    x = x0\n",
    "    for _ in range(max_iter):\n",
    "        fx = f(x)\n",
    "        if np.abs(fx) < tol:\n",
    "            break\n",
    "        dfx = df(x)\n",
    "        x = x - fx / dfx\n",
    "    return x\n",
    "\n",
    "# Test the code\n",
    "np.random.seed(42)\n",
    "r0 = 0.05\n",
    "alpha = 0.1\n",
    "theta = [0.05, 0.1, 0.15]\n",
    "sigma = 0.2\n",
    "a = 0.1\n",
    "T = 1.0\n",
    "N = 100\n",
    "\n",
    "r_tree, discount_factors = trinomial_tree(r0, alpha, theta, sigma, a, T, N)\n",
    "\n",
    "# Print the results\n",
    "print(\"Short Rate Tree:\")\n",
    "print(r_tree)\n",
    "print()\n",
    "print(\"Discount Factors:\")\n",
    "print(discount_factors)\n"
   ]
  },
  {
   "cell_type": "code",
   "execution_count": null,
   "metadata": {},
   "outputs": [],
   "source": [
    "def black_karasinski(r0, n, dt, theta, sigma, kappa):\n",
    "    \"\"\"\"\"\n",
    "    Simulate the Black-Karasinski short-rate model\n",
    "    \n",
    "    Args:\n",
    "        r0(float): initial short-rate value\n",
    "        n(int): number of time step\n",
    "        dt(float): time step size\n",
    "        theta(ndarray): array of mean-reversion levels for each time step\n",
    "        sigma(ndarray): array of volatility values for each time step\n",
    "        kappa(float): array of mean-reversion speed values\n",
    "        \n",
    "    Return:\n",
    "        ndarray: array of simulated short-rate values \n",
    "    \"\"\"\"\"\n",
    "    r = np.zeros(n)\n",
    "    r[0] = r0\n",
    "    for i in range(1,n):\n",
    "        ri_1Ln = np.log(r[i-1])\n",
    "        driLn = theta[i-1] - alpha[i-1]*ri_1Ln\n",
    "        riLn = ri_1Ln + driLn*dt +sigma[i-1]*np.sqrt(dt)*np.random.normal()\n",
    "        r[i] = np.exp(riLn)\n",
    "    return r\n",
    "\n",
    "r0 = "
   ]
  }
 ],
 "metadata": {
  "kernelspec": {
   "display_name": "tf_2.3_py_3.7",
   "language": "python",
   "name": "python3"
  },
  "language_info": {
   "codemirror_mode": {
    "name": "ipython",
    "version": 3
   },
   "file_extension": ".py",
   "mimetype": "text/x-python",
   "name": "python",
   "nbconvert_exporter": "python",
   "pygments_lexer": "ipython3",
   "version": "3.7.15"
  },
  "orig_nbformat": 4
 },
 "nbformat": 4,
 "nbformat_minor": 2
}
