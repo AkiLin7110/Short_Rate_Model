{
 "cells": [
  {
   "cell_type": "code",
   "execution_count": 56,
   "metadata": {},
   "outputs": [],
   "source": [
    "import pandas as pd\n",
    "from os import listdir\n",
    "import numpy as np\n",
    "import random\n",
    "import scipy.optimize as opt\n",
    "import warnings\n",
    "warnings.filterwarnings(\"ignore\")"
   ]
  },
  {
   "attachments": {},
   "cell_type": "markdown",
   "metadata": {},
   "source": [
    "# Data"
   ]
  },
  {
   "cell_type": "code",
   "execution_count": 57,
   "metadata": {},
   "outputs": [],
   "source": [
    "mypath = \"Final\"\n",
    "data_list = listdir(mypath)"
   ]
  },
  {
   "cell_type": "code",
   "execution_count": 58,
   "metadata": {},
   "outputs": [],
   "source": [
    "data = pd.DataFrame()\n",
    "for col in data_list:\n",
    "    tmp = pd.read_csv('Final/'+col, index_col = 'Date')\n",
    "    data = pd.concat([data,tmp])\n",
    "data.index = pd.DatetimeIndex(data.index)\n",
    "df = pd.DataFrame(data.sort_index()['3 Mo'].copy())"
   ]
  },
  {
   "cell_type": "code",
   "execution_count": 59,
   "metadata": {},
   "outputs": [],
   "source": [
    "df['3 Mo_shift'] = df['3 Mo'].shift(1) \n",
    "df['diff'] = df['3 Mo'] - df['3 Mo_shift']"
   ]
  },
  {
   "cell_type": "code",
   "execution_count": 60,
   "metadata": {},
   "outputs": [],
   "source": [
    "db = df.dropna().copy()"
   ]
  },
  {
   "attachments": {},
   "cell_type": "markdown",
   "metadata": {},
   "source": [
    "# 估參數：k, theta , sigma"
   ]
  },
  {
   "attachments": {
    "image.png": {
     "image/png": "[encoded data removed]"
    }
   },
   "cell_type": "markdown",
   "metadata": {},
   "source": [
    "![image.png](attachment:image.png)"
   ]
  },
  {
   "cell_type": "code",
   "execution_count": 61,
   "metadata": {},
   "outputs": [],
   "source": [
    "global N\n",
    "N = 252\n",
    "dt = 1/N\n",
    "def fun_MLE(x): \n",
    "    \n",
    "    random.seed(108)\n",
    "    np.random.seed(108)\n",
    "    # scipy\n",
    "    DF = db_tmp.to_numpy()\n",
    "    \n",
    "    r0 = DF[:,0]\n",
    "    r1 = DF[:,1]\n",
    "    dr = DF[:,2]\n",
    "\n",
    "    mu, sigma = 0, dt # mean and standard deviation\n",
    "    s = np.random.normal(mu, sigma, len(DF))\n",
    "    a = x[0]\n",
    "    b = x[1]\n",
    "    sigma = x[2]\n",
    "    fit_dr =  a*(b-r0)*dt + sigma*np.sqrt(r0)*s\n",
    "    error = np.sum(np.abs(fit_dr-dr))\n",
    "    target = -np.log(error)\n",
    "    # target = -error\n",
    "    return target"
   ]
  },
  {
   "cell_type": "code",
   "execution_count": 62,
   "metadata": {},
   "outputs": [],
   "source": [
    "initial = (0.3,0.3,0.3)\n",
    "tmp = 0.1\n",
    "constraints = ( {'type':'ineq','fun':lambda x : 2*x[0]*x[1]-x[2]**2},\n",
    "                {'type':'ineq','fun':lambda x : x[2]},\n",
    "                {'type':'ineq','fun':lambda x : -x[0]+1*tmp},\n",
    "                {'type':'ineq','fun':lambda x : -x[1]+1*tmp},\n",
    "                {'type':'ineq','fun':lambda x : -x[2]+1*tmp},\n",
    "                {'type':'ineq','fun':lambda x : x[0]+1*tmp},\n",
    "                {'type':'ineq','fun':lambda x : x[1]+1*tmp},\n",
    "                {'type':'ineq','fun':lambda x : x[2]+1*tmp},\n",
    "                )\n",
    "# parameters = opt.minimize(fun_MLE, initial, method = 'SLSQP', constraints = constraints)\n",
    "# bp = parameters['x']"
   ]
  },
  {
   "attachments": {},
   "cell_type": "markdown",
   "metadata": {},
   "source": [
    "# CIR"
   ]
  },
  {
   "cell_type": "code",
   "execution_count": 63,
   "metadata": {},
   "outputs": [],
   "source": [
    "from CIR import CIR\n",
    "import matplotlib.pyplot as plt\n",
    "\n",
    "def estimate(bp,r0, period = 2):\n",
    "    # assume mean-reverted speed = 1, mean-reverted level = 0.05, vol of interest rate = 0.05, initial interest rate = 0.05, and pass to an object named C\n",
    "    # print(bp[0], bp[1],bp[2])\n",
    "    C = CIR(bp[0],bp[1],bp[2],r0) \n",
    "    # C = CIR(1,0.05,0.05,0.05)\n",
    "    # For Euler method\n",
    "    r = C.Euler(0,dt*period,dt)[1:] # start time = 0, end time = 1, dt = 0.01\n",
    "    # print(r)\n",
    "    # For Milstern method\n",
    "    r1 = C.Milstein(0,dt*period,dt)[1:]\n",
    "    # Plot and compare\n",
    "    # plt.figure(figsize=(20,10))\n",
    "    # l1,=plt.plot(r)\n",
    "    # l2,=plt.plot(r1,'b*',markersize=4)\n",
    "    # plt.ylabel('interest rate r',fontsize = 20)\n",
    "    # plt.legend(handles=[l1, l2], labels=['Euler', 'Milstein'], fontsize = 16)\n",
    "    return r,r1\n",
    "\n"
   ]
  },
  {
   "cell_type": "code",
   "execution_count": 64,
   "metadata": {},
   "outputs": [],
   "source": [
    "ROLLING = 90 #調整參數週期\n",
    "dates = db[::ROLLING].index\n",
    "period = 90 # 預測下一期\n",
    "global db_tmp\n"
   ]
  },
  {
   "cell_type": "code",
   "execution_count": 65,
   "metadata": {},
   "outputs": [],
   "source": [
    "bps = []\n",
    "for i in range(1,len(dates)):\n",
    "    db_tmp = db[((db.index < dates[i]) & (db.index >= dates[i-1]))]\n",
    "    parameters = opt.minimize(fun_MLE, initial, method = 'SLSQP', constraints = constraints)\n",
    "    bp = parameters['x']\n",
    "    bps.append(bp)"
   ]
  },
  {
   "cell_type": "code",
   "execution_count": 66,
   "metadata": {},
   "outputs": [],
   "source": [
    "df_pa = pd.DataFrame(bps, columns = ['a','b','sigma'],index = dates[1:])\n",
    "df_pa_me =  pd.merge(df, df_pa, left_on = 'Date', right_on = 'Date',how = 'outer').ffill()\n",
    "DB = df_pa_me.dropna()"
   ]
  },
  {
   "cell_type": "code",
   "execution_count": 67,
   "metadata": {},
   "outputs": [],
   "source": [
    "estimates_1 = []\n",
    "estimates_2 = []\n",
    "for i in range(0,len(DB)):\n",
    "    estimate_1, estimate_2 = estimate((DB['a'][i],DB['b'][i], DB['sigma'][i]),DB['3 Mo_shift'][i], period = period)\n",
    "    estimates_1.append(estimate_1)\n",
    "    estimates_2.append(estimate_2)\n",
    "DB['pred_1'] = estimates_1 \n",
    "DB['pred_2'] = estimates_2"
   ]
  },
  {
   "cell_type": "code",
   "execution_count": 68,
   "metadata": {},
   "outputs": [
    {
     "data": {
      "text/html": [
       "<div>\n",
       "<style scoped>\n",
       "    .dataframe tbody tr th:only-of-type {\n",
       "        vertical-align: middle;\n",
       "    }\n",
       "\n",
       "    .dataframe tbody tr th {\n",
       "        vertical-align: top;\n",
       "    }\n",
       "\n",
       "    .dataframe thead th {\n",
       "        text-align: right;\n",
       "    }\n",
       "</style>\n",
       "<table border=\"1\" class=\"dataframe\">\n",
       "  <thead>\n",
       "    <tr style=\"text-align: right;\">\n",
       "      <th></th>\n",
       "      <th>3 Mo</th>\n",
       "      <th>3 Mo_shift</th>\n",
       "      <th>diff</th>\n",
       "      <th>a</th>\n",
       "      <th>b</th>\n",
       "      <th>sigma</th>\n",
       "      <th>pred_1</th>\n",
       "      <th>pred_2</th>\n",
       "    </tr>\n",
       "    <tr>\n",
       "      <th>Date</th>\n",
       "      <th></th>\n",
       "      <th></th>\n",
       "      <th></th>\n",
       "      <th></th>\n",
       "      <th></th>\n",
       "      <th></th>\n",
       "      <th></th>\n",
       "      <th></th>\n",
       "    </tr>\n",
       "  </thead>\n",
       "  <tbody>\n",
       "    <tr>\n",
       "      <th>2010-05-13</th>\n",
       "      <td>0.16</td>\n",
       "      <td>0.16</td>\n",
       "      <td>0.00</td>\n",
       "      <td>0.1</td>\n",
       "      <td>0.1</td>\n",
       "      <td>0.1</td>\n",
       "      <td>[0.1610879792399084, 0.16022719378844452, 0.16...</td>\n",
       "      <td>[0.1610720007021144, 0.1601935939356661, 0.166...</td>\n",
       "    </tr>\n",
       "    <tr>\n",
       "      <th>2010-05-14</th>\n",
       "      <td>0.16</td>\n",
       "      <td>0.16</td>\n",
       "      <td>0.00</td>\n",
       "      <td>0.1</td>\n",
       "      <td>0.1</td>\n",
       "      <td>0.1</td>\n",
       "      <td>[0.1610879792399084, 0.16022719378844452, 0.16...</td>\n",
       "      <td>[0.1610720007021144, 0.1601935939356661, 0.166...</td>\n",
       "    </tr>\n",
       "    <tr>\n",
       "      <th>2010-05-17</th>\n",
       "      <td>0.16</td>\n",
       "      <td>0.16</td>\n",
       "      <td>0.00</td>\n",
       "      <td>0.1</td>\n",
       "      <td>0.1</td>\n",
       "      <td>0.1</td>\n",
       "      <td>[0.1610879792399084, 0.16022719378844452, 0.16...</td>\n",
       "      <td>[0.1610720007021144, 0.1601935939356661, 0.166...</td>\n",
       "    </tr>\n",
       "    <tr>\n",
       "      <th>2010-05-18</th>\n",
       "      <td>0.17</td>\n",
       "      <td>0.16</td>\n",
       "      <td>0.01</td>\n",
       "      <td>0.1</td>\n",
       "      <td>0.1</td>\n",
       "      <td>0.1</td>\n",
       "      <td>[0.1610879792399084, 0.16022719378844452, 0.16...</td>\n",
       "      <td>[0.1610720007021144, 0.1601935939356661, 0.166...</td>\n",
       "    </tr>\n",
       "    <tr>\n",
       "      <th>2010-05-19</th>\n",
       "      <td>0.17</td>\n",
       "      <td>0.17</td>\n",
       "      <td>0.00</td>\n",
       "      <td>0.1</td>\n",
       "      <td>0.1</td>\n",
       "      <td>0.1</td>\n",
       "      <td>[0.17111822784876823, 0.17022781141437077, 0.1...</td>\n",
       "      <td>[0.17110224931097423, 0.1701942103271854, 0.17...</td>\n",
       "    </tr>\n",
       "    <tr>\n",
       "      <th>...</th>\n",
       "      <td>...</td>\n",
       "      <td>...</td>\n",
       "      <td>...</td>\n",
       "      <td>...</td>\n",
       "      <td>...</td>\n",
       "      <td>...</td>\n",
       "      <td>...</td>\n",
       "      <td>...</td>\n",
       "    </tr>\n",
       "    <tr>\n",
       "      <th>2010-09-13</th>\n",
       "      <td>0.15</td>\n",
       "      <td>0.14</td>\n",
       "      <td>0.01</td>\n",
       "      <td>0.1</td>\n",
       "      <td>0.1</td>\n",
       "      <td>0.1</td>\n",
       "      <td>[0.14102411014420135, 0.1402251151087802, 0.14...</td>\n",
       "      <td>[0.14100813160640735, 0.14019151810949043, 0.1...</td>\n",
       "    </tr>\n",
       "    <tr>\n",
       "      <th>2010-09-14</th>\n",
       "      <td>0.15</td>\n",
       "      <td>0.15</td>\n",
       "      <td>0.00</td>\n",
       "      <td>0.1</td>\n",
       "      <td>0.1</td>\n",
       "      <td>0.1</td>\n",
       "      <td>[0.15105664357175375, 0.1502263042567072, 0.15...</td>\n",
       "      <td>[0.15104066503395974, 0.15019270575948696, 0.1...</td>\n",
       "    </tr>\n",
       "    <tr>\n",
       "      <th>2010-09-15</th>\n",
       "      <td>0.15</td>\n",
       "      <td>0.15</td>\n",
       "      <td>0.00</td>\n",
       "      <td>0.1</td>\n",
       "      <td>0.1</td>\n",
       "      <td>0.1</td>\n",
       "      <td>[0.15105664357175375, 0.1502263042567072, 0.15...</td>\n",
       "      <td>[0.15104066503395974, 0.15019270575948696, 0.1...</td>\n",
       "    </tr>\n",
       "    <tr>\n",
       "      <th>2010-09-16</th>\n",
       "      <td>0.16</td>\n",
       "      <td>0.15</td>\n",
       "      <td>0.01</td>\n",
       "      <td>0.1</td>\n",
       "      <td>0.1</td>\n",
       "      <td>0.1</td>\n",
       "      <td>[0.15105664357175375, 0.1502263042567072, 0.15...</td>\n",
       "      <td>[0.15104066503395974, 0.15019270575948696, 0.1...</td>\n",
       "    </tr>\n",
       "    <tr>\n",
       "      <th>2010-09-17</th>\n",
       "      <td>0.16</td>\n",
       "      <td>0.16</td>\n",
       "      <td>0.00</td>\n",
       "      <td>0.1</td>\n",
       "      <td>0.1</td>\n",
       "      <td>0.1</td>\n",
       "      <td>[0.1610879792399084, 0.16022719378844452, 0.16...</td>\n",
       "      <td>[0.1610720007021144, 0.1601935939356661, 0.166...</td>\n",
       "    </tr>\n",
       "  </tbody>\n",
       "</table>\n",
       "<p>89 rows × 8 columns</p>\n",
       "</div>"
      ],
      "text/plain": [
       "            3 Mo  3 Mo_shift  diff    a    b  sigma  \\\n",
       "Date                                                  \n",
       "2010-05-13  0.16        0.16  0.00  0.1  0.1    0.1   \n",
       "2010-05-14  0.16        0.16  0.00  0.1  0.1    0.1   \n",
       "2010-05-17  0.16        0.16  0.00  0.1  0.1    0.1   \n",
       "2010-05-18  0.17        0.16  0.01  0.1  0.1    0.1   \n",
       "2010-05-19  0.17        0.17  0.00  0.1  0.1    0.1   \n",
       "...          ...         ...   ...  ...  ...    ...   \n",
       "2010-09-13  0.15        0.14  0.01  0.1  0.1    0.1   \n",
       "2010-09-14  0.15        0.15  0.00  0.1  0.1    0.1   \n",
       "2010-09-15  0.15        0.15  0.00  0.1  0.1    0.1   \n",
       "2010-09-16  0.16        0.15  0.01  0.1  0.1    0.1   \n",
       "2010-09-17  0.16        0.16  0.00  0.1  0.1    0.1   \n",
       "\n",
       "                                                       pred_1  \\\n",
       "Date                                                            \n",
       "2010-05-13  [0.1610879792399084, 0.16022719378844452, 0.16...   \n",
       "2010-05-14  [0.1610879792399084, 0.16022719378844452, 0.16...   \n",
       "2010-05-17  [0.1610879792399084, 0.16022719378844452, 0.16...   \n",
       "2010-05-18  [0.1610879792399084, 0.16022719378844452, 0.16...   \n",
       "2010-05-19  [0.17111822784876823, 0.17022781141437077, 0.1...   \n",
       "...                                                       ...   \n",
       "2010-09-13  [0.14102411014420135, 0.1402251151087802, 0.14...   \n",
       "2010-09-14  [0.15105664357175375, 0.1502263042567072, 0.15...   \n",
       "2010-09-15  [0.15105664357175375, 0.1502263042567072, 0.15...   \n",
       "2010-09-16  [0.15105664357175375, 0.1502263042567072, 0.15...   \n",
       "2010-09-17  [0.1610879792399084, 0.16022719378844452, 0.16...   \n",
       "\n",
       "                                                       pred_2  \n",
       "Date                                                           \n",
       "2010-05-13  [0.1610720007021144, 0.1601935939356661, 0.166...  \n",
       "2010-05-14  [0.1610720007021144, 0.1601935939356661, 0.166...  \n",
       "2010-05-17  [0.1610720007021144, 0.1601935939356661, 0.166...  \n",
       "2010-05-18  [0.1610720007021144, 0.1601935939356661, 0.166...  \n",
       "2010-05-19  [0.17110224931097423, 0.1701942103271854, 0.17...  \n",
       "...                                                       ...  \n",
       "2010-09-13  [0.14100813160640735, 0.14019151810949043, 0.1...  \n",
       "2010-09-14  [0.15104066503395974, 0.15019270575948696, 0.1...  \n",
       "2010-09-15  [0.15104066503395974, 0.15019270575948696, 0.1...  \n",
       "2010-09-16  [0.15104066503395974, 0.15019270575948696, 0.1...  \n",
       "2010-09-17  [0.1610720007021144, 0.1601935939356661, 0.166...  \n",
       "\n",
       "[89 rows x 8 columns]"
      ]
     },
     "execution_count": 68,
     "metadata": {},
     "output_type": "execute_result"
    }
   ],
   "source": [
    "DB[((DB.index>=DB.index[0]) & (DB.index<DB.index[len(DB['pred_1'][0])]))]"
   ]
  },
  {
   "cell_type": "code",
   "execution_count": 69,
   "metadata": {},
   "outputs": [
    {
     "data": {
      "text/plain": [
       "Text(0.5, 1.0, 'No Rolling CIR')"
      ]
     },
     "execution_count": 69,
     "metadata": {},
     "output_type": "execute_result"
    },
    {
     "data": {
      "image/png": "[encoded data removed]",
      "text/plain": [
       "<Figure size 2000x1000 with 1 Axes>"
      ]
     },
     "metadata": {},
     "output_type": "display_data"
    }
   ],
   "source": [
    "n = 0\n",
    "plt.figure(figsize=(20,10))\n",
    "l1,= plt.plot(DB['pred_1'][n])\n",
    "# l2,= plt.plot(DB['pred_2'][n],'b-',markersize=4)\n",
    "l3, = plt.plot(np.array(DB[((DB.index>=DB.index[0]) & (DB.index<DB.index[len(DB['pred_1'][0])]))]['3 Mo']),'r-',markersize=4)\n",
    "plt.ylabel('3 Mo Par Yield Rate',fontsize = 20)\n",
    "plt.legend(handles=[l1, l3], labels=['Pre 3Mo', 'Real 3Mo'], fontsize = 16)\n",
    "plt.title('No Rolling CIR', fontsize = 16)"
   ]
  },
  {
   "attachments": {},
   "cell_type": "markdown",
   "metadata": {},
   "source": [
    "# Error Calculated : RMSE MSE SSE"
   ]
  },
  {
   "cell_type": "code",
   "execution_count": 70,
   "metadata": {},
   "outputs": [
    {
     "data": {
      "text/html": [
       "<div>\n",
       "<style scoped>\n",
       "    .dataframe tbody tr th:only-of-type {\n",
       "        vertical-align: middle;\n",
       "    }\n",
       "\n",
       "    .dataframe tbody tr th {\n",
       "        vertical-align: top;\n",
       "    }\n",
       "\n",
       "    .dataframe thead th {\n",
       "        text-align: right;\n",
       "    }\n",
       "</style>\n",
       "<table border=\"1\" class=\"dataframe\">\n",
       "  <thead>\n",
       "    <tr style=\"text-align: right;\">\n",
       "      <th></th>\n",
       "      <th>3 Mo</th>\n",
       "      <th>3 Mo_shift</th>\n",
       "      <th>diff</th>\n",
       "      <th>a</th>\n",
       "      <th>b</th>\n",
       "      <th>sigma</th>\n",
       "      <th>pred_1</th>\n",
       "      <th>pred_2</th>\n",
       "    </tr>\n",
       "    <tr>\n",
       "      <th>Date</th>\n",
       "      <th></th>\n",
       "      <th></th>\n",
       "      <th></th>\n",
       "      <th></th>\n",
       "      <th></th>\n",
       "      <th></th>\n",
       "      <th></th>\n",
       "      <th></th>\n",
       "    </tr>\n",
       "  </thead>\n",
       "  <tbody>\n",
       "    <tr>\n",
       "      <th>2010-05-13</th>\n",
       "      <td>0.16</td>\n",
       "      <td>0.16</td>\n",
       "      <td>0.00</td>\n",
       "      <td>0.1</td>\n",
       "      <td>0.10</td>\n",
       "      <td>0.1</td>\n",
       "      <td>[0.1610879792399084, 0.16022719378844452, 0.16...</td>\n",
       "      <td>[0.1610720007021144, 0.1601935939356661, 0.166...</td>\n",
       "    </tr>\n",
       "    <tr>\n",
       "      <th>2010-05-14</th>\n",
       "      <td>0.16</td>\n",
       "      <td>0.16</td>\n",
       "      <td>0.00</td>\n",
       "      <td>0.1</td>\n",
       "      <td>0.10</td>\n",
       "      <td>0.1</td>\n",
       "      <td>[0.1610879792399084, 0.16022719378844452, 0.16...</td>\n",
       "      <td>[0.1610720007021144, 0.1601935939356661, 0.166...</td>\n",
       "    </tr>\n",
       "    <tr>\n",
       "      <th>2010-05-17</th>\n",
       "      <td>0.16</td>\n",
       "      <td>0.16</td>\n",
       "      <td>0.00</td>\n",
       "      <td>0.1</td>\n",
       "      <td>0.10</td>\n",
       "      <td>0.1</td>\n",
       "      <td>[0.1610879792399084, 0.16022719378844452, 0.16...</td>\n",
       "      <td>[0.1610720007021144, 0.1601935939356661, 0.166...</td>\n",
       "    </tr>\n",
       "    <tr>\n",
       "      <th>2010-05-18</th>\n",
       "      <td>0.17</td>\n",
       "      <td>0.16</td>\n",
       "      <td>0.01</td>\n",
       "      <td>0.1</td>\n",
       "      <td>0.10</td>\n",
       "      <td>0.1</td>\n",
       "      <td>[0.1610879792399084, 0.16022719378844452, 0.16...</td>\n",
       "      <td>[0.1610720007021144, 0.1601935939356661, 0.166...</td>\n",
       "    </tr>\n",
       "    <tr>\n",
       "      <th>2010-05-19</th>\n",
       "      <td>0.17</td>\n",
       "      <td>0.17</td>\n",
       "      <td>0.00</td>\n",
       "      <td>0.1</td>\n",
       "      <td>0.10</td>\n",
       "      <td>0.1</td>\n",
       "      <td>[0.17111822784876823, 0.17022781141437077, 0.1...</td>\n",
       "      <td>[0.17110224931097423, 0.1701942103271854, 0.17...</td>\n",
       "    </tr>\n",
       "    <tr>\n",
       "      <th>...</th>\n",
       "      <td>...</td>\n",
       "      <td>...</td>\n",
       "      <td>...</td>\n",
       "      <td>...</td>\n",
       "      <td>...</td>\n",
       "      <td>...</td>\n",
       "      <td>...</td>\n",
       "      <td>...</td>\n",
       "    </tr>\n",
       "    <tr>\n",
       "      <th>2023-05-31</th>\n",
       "      <td>5.52</td>\n",
       "      <td>5.55</td>\n",
       "      <td>-0.03</td>\n",
       "      <td>0.1</td>\n",
       "      <td>0.05</td>\n",
       "      <td>0.1</td>\n",
       "      <td>[5.554365461976347, 5.547269006871296, 5.58115...</td>\n",
       "      <td>[5.5543494834385525, 5.54723537259408, 5.58121...</td>\n",
       "    </tr>\n",
       "    <tr>\n",
       "      <th>2023-06-01</th>\n",
       "      <td>5.50</td>\n",
       "      <td>5.52</td>\n",
       "      <td>-0.02</td>\n",
       "      <td>0.1</td>\n",
       "      <td>0.05</td>\n",
       "      <td>0.1</td>\n",
       "      <td>[5.524359645456342, 5.517288383697552, 5.55108...</td>\n",
       "      <td>[5.524343666918548, 5.5172547494394975, 5.5511...</td>\n",
       "    </tr>\n",
       "    <tr>\n",
       "      <th>2023-06-02</th>\n",
       "      <td>5.50</td>\n",
       "      <td>5.50</td>\n",
       "      <td>0.00</td>\n",
       "      <td>0.1</td>\n",
       "      <td>0.05</td>\n",
       "      <td>0.1</td>\n",
       "      <td>[5.504355741010971, 5.497301294893861, 5.53104...</td>\n",
       "      <td>[5.504339762473177, 5.497267660648668, 5.53110...</td>\n",
       "    </tr>\n",
       "    <tr>\n",
       "      <th>2023-06-05</th>\n",
       "      <td>5.46</td>\n",
       "      <td>5.50</td>\n",
       "      <td>-0.04</td>\n",
       "      <td>0.1</td>\n",
       "      <td>0.05</td>\n",
       "      <td>0.1</td>\n",
       "      <td>[5.504355741010971, 5.497301294893861, 5.53104...</td>\n",
       "      <td>[5.504339762473177, 5.497267660648668, 5.53110...</td>\n",
       "    </tr>\n",
       "    <tr>\n",
       "      <th>2023-06-06</th>\n",
       "      <td>5.44</td>\n",
       "      <td>5.46</td>\n",
       "      <td>-0.02</td>\n",
       "      <td>0.1</td>\n",
       "      <td>0.05</td>\n",
       "      <td>0.1</td>\n",
       "      <td>[5.464347867356205, 5.45732710110389, 5.490952...</td>\n",
       "      <td>[5.4643318888184105, 5.457293466884632, 5.4910...</td>\n",
       "    </tr>\n",
       "  </tbody>\n",
       "</table>\n",
       "<p>3270 rows × 8 columns</p>\n",
       "</div>"
      ],
      "text/plain": [
       "            3 Mo  3 Mo_shift  diff    a     b  sigma  \\\n",
       "Date                                                   \n",
       "2010-05-13  0.16        0.16  0.00  0.1  0.10    0.1   \n",
       "2010-05-14  0.16        0.16  0.00  0.1  0.10    0.1   \n",
       "2010-05-17  0.16        0.16  0.00  0.1  0.10    0.1   \n",
       "2010-05-18  0.17        0.16  0.01  0.1  0.10    0.1   \n",
       "2010-05-19  0.17        0.17  0.00  0.1  0.10    0.1   \n",
       "...          ...         ...   ...  ...   ...    ...   \n",
       "2023-05-31  5.52        5.55 -0.03  0.1  0.05    0.1   \n",
       "2023-06-01  5.50        5.52 -0.02  0.1  0.05    0.1   \n",
       "2023-06-02  5.50        5.50  0.00  0.1  0.05    0.1   \n",
       "2023-06-05  5.46        5.50 -0.04  0.1  0.05    0.1   \n",
       "2023-06-06  5.44        5.46 -0.02  0.1  0.05    0.1   \n",
       "\n",
       "                                                       pred_1  \\\n",
       "Date                                                            \n",
       "2010-05-13  [0.1610879792399084, 0.16022719378844452, 0.16...   \n",
       "2010-05-14  [0.1610879792399084, 0.16022719378844452, 0.16...   \n",
       "2010-05-17  [0.1610879792399084, 0.16022719378844452, 0.16...   \n",
       "2010-05-18  [0.1610879792399084, 0.16022719378844452, 0.16...   \n",
       "2010-05-19  [0.17111822784876823, 0.17022781141437077, 0.1...   \n",
       "...                                                       ...   \n",
       "2023-05-31  [5.554365461976347, 5.547269006871296, 5.58115...   \n",
       "2023-06-01  [5.524359645456342, 5.517288383697552, 5.55108...   \n",
       "2023-06-02  [5.504355741010971, 5.497301294893861, 5.53104...   \n",
       "2023-06-05  [5.504355741010971, 5.497301294893861, 5.53104...   \n",
       "2023-06-06  [5.464347867356205, 5.45732710110389, 5.490952...   \n",
       "\n",
       "                                                       pred_2  \n",
       "Date                                                           \n",
       "2010-05-13  [0.1610720007021144, 0.1601935939356661, 0.166...  \n",
       "2010-05-14  [0.1610720007021144, 0.1601935939356661, 0.166...  \n",
       "2010-05-17  [0.1610720007021144, 0.1601935939356661, 0.166...  \n",
       "2010-05-18  [0.1610720007021144, 0.1601935939356661, 0.166...  \n",
       "2010-05-19  [0.17110224931097423, 0.1701942103271854, 0.17...  \n",
       "...                                                       ...  \n",
       "2023-05-31  [5.5543494834385525, 5.54723537259408, 5.58121...  \n",
       "2023-06-01  [5.524343666918548, 5.5172547494394975, 5.5511...  \n",
       "2023-06-02  [5.504339762473177, 5.497267660648668, 5.53110...  \n",
       "2023-06-05  [5.504339762473177, 5.497267660648668, 5.53110...  \n",
       "2023-06-06  [5.4643318888184105, 5.457293466884632, 5.4910...  \n",
       "\n",
       "[3270 rows x 8 columns]"
      ]
     },
     "execution_count": 70,
     "metadata": {},
     "output_type": "execute_result"
    }
   ],
   "source": [
    "DB"
   ]
  },
  {
   "cell_type": "code",
   "execution_count": 71,
   "metadata": {},
   "outputs": [],
   "source": [
    "# MSE\n",
    "MSE = np.sum(DB['pred_1'][n] - np.array(DB[((DB.index>=DB.index[0]) & (DB.index<DB.index[len(DB['pred_1'][0])]))]['3 Mo'])**2)/len(DB['pred_1'][n])\n",
    "\n",
    "# RMSE\n",
    "# RMSE = np.sqrt(MSE)\n",
    "\n",
    "# MAPE\n",
    "# MAPE = np.sum(np.abs((DB['pred_1']-DB['3 Mo'])/DB['3 Mo']))/len(DB)"
   ]
  },
  {
   "cell_type": "code",
   "execution_count": 72,
   "metadata": {},
   "outputs": [
    {
     "data": {
      "text/plain": [
       "0.14594619021303418"
      ]
     },
     "execution_count": 72,
     "metadata": {},
     "output_type": "execute_result"
    }
   ],
   "source": [
    "MSE"
   ]
  },
  {
   "cell_type": "code",
   "execution_count": 73,
   "metadata": {},
   "outputs": [
    {
     "ename": "TypeError",
     "evalue": "unsupported operand type(s) for -: 'list' and 'float'",
     "output_type": "error",
     "traceback": [
      "\u001b[0;31m---------------------------------------------------------------------------\u001b[0m",
      "\u001b[0;31mTypeError\u001b[0m                                 Traceback (most recent call last)",
      "\u001b[0;32m~/anaconda3/envs/gamma/lib/python3.7/site-packages/pandas/core/ops/array_ops.py\u001b[0m in \u001b[0;36m_na_arithmetic_op\u001b[0;34m(left, right, op, is_cmp)\u001b[0m\n\u001b[1;32m    165\u001b[0m     \u001b[0;32mtry\u001b[0m\u001b[0;34m:\u001b[0m\u001b[0;34m\u001b[0m\u001b[0;34m\u001b[0m\u001b[0m\n\u001b[0;32m--> 166\u001b[0;31m         \u001b[0mresult\u001b[0m \u001b[0;34m=\u001b[0m \u001b[0mfunc\u001b[0m\u001b[0;34m(\u001b[0m\u001b[0mleft\u001b[0m\u001b[0;34m,\u001b[0m \u001b[0mright\u001b[0m\u001b[0;34m)\u001b[0m\u001b[0;34m\u001b[0m\u001b[0;34m\u001b[0m\u001b[0m\n\u001b[0m\u001b[1;32m    167\u001b[0m     \u001b[0;32mexcept\u001b[0m \u001b[0mTypeError\u001b[0m\u001b[0;34m:\u001b[0m\u001b[0;34m\u001b[0m\u001b[0;34m\u001b[0m\u001b[0m\n",
      "\u001b[0;32m~/anaconda3/envs/gamma/lib/python3.7/site-packages/pandas/core/computation/expressions.py\u001b[0m in \u001b[0;36mevaluate\u001b[0;34m(op, a, b, use_numexpr)\u001b[0m\n\u001b[1;32m    238\u001b[0m             \u001b[0;31m# error: \"None\" not callable\u001b[0m\u001b[0;34m\u001b[0m\u001b[0;34m\u001b[0m\u001b[0;34m\u001b[0m\u001b[0m\n\u001b[0;32m--> 239\u001b[0;31m             \u001b[0;32mreturn\u001b[0m \u001b[0m_evaluate\u001b[0m\u001b[0;34m(\u001b[0m\u001b[0mop\u001b[0m\u001b[0;34m,\u001b[0m \u001b[0mop_str\u001b[0m\u001b[0;34m,\u001b[0m \u001b[0ma\u001b[0m\u001b[0;34m,\u001b[0m \u001b[0mb\u001b[0m\u001b[0;34m)\u001b[0m  \u001b[0;31m# type: ignore[misc]\u001b[0m\u001b[0;34m\u001b[0m\u001b[0;34m\u001b[0m\u001b[0m\n\u001b[0m\u001b[1;32m    240\u001b[0m     \u001b[0;32mreturn\u001b[0m \u001b[0m_evaluate_standard\u001b[0m\u001b[0;34m(\u001b[0m\u001b[0mop\u001b[0m\u001b[0;34m,\u001b[0m \u001b[0mop_str\u001b[0m\u001b[0;34m,\u001b[0m \u001b[0ma\u001b[0m\u001b[0;34m,\u001b[0m \u001b[0mb\u001b[0m\u001b[0;34m)\u001b[0m\u001b[0;34m\u001b[0m\u001b[0;34m\u001b[0m\u001b[0m\n",
      "\u001b[0;32m~/anaconda3/envs/gamma/lib/python3.7/site-packages/pandas/core/computation/expressions.py\u001b[0m in \u001b[0;36m_evaluate_standard\u001b[0;34m(op, op_str, a, b)\u001b[0m\n\u001b[1;32m     68\u001b[0m         \u001b[0m_store_test_result\u001b[0m\u001b[0;34m(\u001b[0m\u001b[0;32mFalse\u001b[0m\u001b[0;34m)\u001b[0m\u001b[0;34m\u001b[0m\u001b[0;34m\u001b[0m\u001b[0m\n\u001b[0;32m---> 69\u001b[0;31m     \u001b[0;32mreturn\u001b[0m \u001b[0mop\u001b[0m\u001b[0;34m(\u001b[0m\u001b[0ma\u001b[0m\u001b[0;34m,\u001b[0m \u001b[0mb\u001b[0m\u001b[0;34m)\u001b[0m\u001b[0;34m\u001b[0m\u001b[0;34m\u001b[0m\u001b[0m\n\u001b[0m\u001b[1;32m     70\u001b[0m \u001b[0;34m\u001b[0m\u001b[0m\n",
      "\u001b[0;31mTypeError\u001b[0m: unsupported operand type(s) for -: 'list' and 'float'",
      "\nDuring handling of the above exception, another exception occurred:\n",
      "\u001b[0;31mTypeError\u001b[0m                                 Traceback (most recent call last)",
      "\u001b[0;32m/tmp/ipykernel_19653/1002439232.py\u001b[0m in \u001b[0;36m<module>\u001b[0;34m\u001b[0m\n\u001b[0;32m----> 1\u001b[0;31m \u001b[0mnp\u001b[0m\u001b[0;34m.\u001b[0m\u001b[0msum\u001b[0m\u001b[0;34m(\u001b[0m\u001b[0mnp\u001b[0m\u001b[0;34m.\u001b[0m\u001b[0mabs\u001b[0m\u001b[0;34m(\u001b[0m\u001b[0;34m(\u001b[0m\u001b[0mDB\u001b[0m\u001b[0;34m[\u001b[0m\u001b[0;34m'pred_1'\u001b[0m\u001b[0;34m]\u001b[0m\u001b[0;34m-\u001b[0m\u001b[0mDB\u001b[0m\u001b[0;34m[\u001b[0m\u001b[0;34m'3 Mo'\u001b[0m\u001b[0;34m]\u001b[0m\u001b[0;34m)\u001b[0m\u001b[0;34m/\u001b[0m\u001b[0mDB\u001b[0m\u001b[0;34m[\u001b[0m\u001b[0;34m'3 Mo'\u001b[0m\u001b[0;34m]\u001b[0m\u001b[0;34m)\u001b[0m\u001b[0;34m)\u001b[0m\u001b[0;34m\u001b[0m\u001b[0;34m\u001b[0m\u001b[0m\n\u001b[0m",
      "\u001b[0;32m~/anaconda3/envs/gamma/lib/python3.7/site-packages/pandas/core/ops/common.py\u001b[0m in \u001b[0;36mnew_method\u001b[0;34m(self, other)\u001b[0m\n\u001b[1;32m     67\u001b[0m         \u001b[0mother\u001b[0m \u001b[0;34m=\u001b[0m \u001b[0mitem_from_zerodim\u001b[0m\u001b[0;34m(\u001b[0m\u001b[0mother\u001b[0m\u001b[0;34m)\u001b[0m\u001b[0;34m\u001b[0m\u001b[0;34m\u001b[0m\u001b[0m\n\u001b[1;32m     68\u001b[0m \u001b[0;34m\u001b[0m\u001b[0m\n\u001b[0;32m---> 69\u001b[0;31m         \u001b[0;32mreturn\u001b[0m \u001b[0mmethod\u001b[0m\u001b[0;34m(\u001b[0m\u001b[0mself\u001b[0m\u001b[0;34m,\u001b[0m \u001b[0mother\u001b[0m\u001b[0;34m)\u001b[0m\u001b[0;34m\u001b[0m\u001b[0;34m\u001b[0m\u001b[0m\n\u001b[0m\u001b[1;32m     70\u001b[0m \u001b[0;34m\u001b[0m\u001b[0m\n\u001b[1;32m     71\u001b[0m     \u001b[0;32mreturn\u001b[0m \u001b[0mnew_method\u001b[0m\u001b[0;34m\u001b[0m\u001b[0;34m\u001b[0m\u001b[0m\n",
      "\u001b[0;32m~/anaconda3/envs/gamma/lib/python3.7/site-packages/pandas/core/arraylike.py\u001b[0m in \u001b[0;36m__sub__\u001b[0;34m(self, other)\u001b[0m\n\u001b[1;32m     98\u001b[0m     \u001b[0;34m@\u001b[0m\u001b[0munpack_zerodim_and_defer\u001b[0m\u001b[0;34m(\u001b[0m\u001b[0;34m\"__sub__\"\u001b[0m\u001b[0;34m)\u001b[0m\u001b[0;34m\u001b[0m\u001b[0;34m\u001b[0m\u001b[0m\n\u001b[1;32m     99\u001b[0m     \u001b[0;32mdef\u001b[0m \u001b[0m__sub__\u001b[0m\u001b[0;34m(\u001b[0m\u001b[0mself\u001b[0m\u001b[0;34m,\u001b[0m \u001b[0mother\u001b[0m\u001b[0;34m)\u001b[0m\u001b[0;34m:\u001b[0m\u001b[0;34m\u001b[0m\u001b[0;34m\u001b[0m\u001b[0m\n\u001b[0;32m--> 100\u001b[0;31m         \u001b[0;32mreturn\u001b[0m \u001b[0mself\u001b[0m\u001b[0;34m.\u001b[0m\u001b[0m_arith_method\u001b[0m\u001b[0;34m(\u001b[0m\u001b[0mother\u001b[0m\u001b[0;34m,\u001b[0m \u001b[0moperator\u001b[0m\u001b[0;34m.\u001b[0m\u001b[0msub\u001b[0m\u001b[0;34m)\u001b[0m\u001b[0;34m\u001b[0m\u001b[0;34m\u001b[0m\u001b[0m\n\u001b[0m\u001b[1;32m    101\u001b[0m \u001b[0;34m\u001b[0m\u001b[0m\n\u001b[1;32m    102\u001b[0m     \u001b[0;34m@\u001b[0m\u001b[0munpack_zerodim_and_defer\u001b[0m\u001b[0;34m(\u001b[0m\u001b[0;34m\"__rsub__\"\u001b[0m\u001b[0;34m)\u001b[0m\u001b[0;34m\u001b[0m\u001b[0;34m\u001b[0m\u001b[0m\n",
      "\u001b[0;32m~/anaconda3/envs/gamma/lib/python3.7/site-packages/pandas/core/series.py\u001b[0m in \u001b[0;36m_arith_method\u001b[0;34m(self, other, op)\u001b[0m\n\u001b[1;32m   5524\u001b[0m \u001b[0;34m\u001b[0m\u001b[0m\n\u001b[1;32m   5525\u001b[0m         \u001b[0;32mwith\u001b[0m \u001b[0mnp\u001b[0m\u001b[0;34m.\u001b[0m\u001b[0merrstate\u001b[0m\u001b[0;34m(\u001b[0m\u001b[0mall\u001b[0m\u001b[0;34m=\u001b[0m\u001b[0;34m\"ignore\"\u001b[0m\u001b[0;34m)\u001b[0m\u001b[0;34m:\u001b[0m\u001b[0;34m\u001b[0m\u001b[0;34m\u001b[0m\u001b[0m\n\u001b[0;32m-> 5526\u001b[0;31m             \u001b[0mresult\u001b[0m \u001b[0;34m=\u001b[0m \u001b[0mops\u001b[0m\u001b[0;34m.\u001b[0m\u001b[0marithmetic_op\u001b[0m\u001b[0;34m(\u001b[0m\u001b[0mlvalues\u001b[0m\u001b[0;34m,\u001b[0m \u001b[0mrvalues\u001b[0m\u001b[0;34m,\u001b[0m \u001b[0mop\u001b[0m\u001b[0;34m)\u001b[0m\u001b[0;34m\u001b[0m\u001b[0;34m\u001b[0m\u001b[0m\n\u001b[0m\u001b[1;32m   5527\u001b[0m \u001b[0;34m\u001b[0m\u001b[0m\n\u001b[1;32m   5528\u001b[0m         \u001b[0;32mreturn\u001b[0m \u001b[0mself\u001b[0m\u001b[0;34m.\u001b[0m\u001b[0m_construct_result\u001b[0m\u001b[0;34m(\u001b[0m\u001b[0mresult\u001b[0m\u001b[0;34m,\u001b[0m \u001b[0mname\u001b[0m\u001b[0;34m=\u001b[0m\u001b[0mres_name\u001b[0m\u001b[0;34m)\u001b[0m\u001b[0;34m\u001b[0m\u001b[0;34m\u001b[0m\u001b[0m\n",
      "\u001b[0;32m~/anaconda3/envs/gamma/lib/python3.7/site-packages/pandas/core/ops/array_ops.py\u001b[0m in \u001b[0;36marithmetic_op\u001b[0;34m(left, right, op)\u001b[0m\n\u001b[1;32m    222\u001b[0m         \u001b[0m_bool_arith_check\u001b[0m\u001b[0;34m(\u001b[0m\u001b[0mop\u001b[0m\u001b[0;34m,\u001b[0m \u001b[0mleft\u001b[0m\u001b[0;34m,\u001b[0m \u001b[0mright\u001b[0m\u001b[0;34m)\u001b[0m\u001b[0;34m\u001b[0m\u001b[0;34m\u001b[0m\u001b[0m\n\u001b[1;32m    223\u001b[0m \u001b[0;34m\u001b[0m\u001b[0m\n\u001b[0;32m--> 224\u001b[0;31m         \u001b[0mres_values\u001b[0m \u001b[0;34m=\u001b[0m \u001b[0m_na_arithmetic_op\u001b[0m\u001b[0;34m(\u001b[0m\u001b[0mleft\u001b[0m\u001b[0;34m,\u001b[0m \u001b[0mright\u001b[0m\u001b[0;34m,\u001b[0m \u001b[0mop\u001b[0m\u001b[0;34m)\u001b[0m\u001b[0;34m\u001b[0m\u001b[0;34m\u001b[0m\u001b[0m\n\u001b[0m\u001b[1;32m    225\u001b[0m \u001b[0;34m\u001b[0m\u001b[0m\n\u001b[1;32m    226\u001b[0m     \u001b[0;32mreturn\u001b[0m \u001b[0mres_values\u001b[0m\u001b[0;34m\u001b[0m\u001b[0;34m\u001b[0m\u001b[0m\n",
      "\u001b[0;32m~/anaconda3/envs/gamma/lib/python3.7/site-packages/pandas/core/ops/array_ops.py\u001b[0m in \u001b[0;36m_na_arithmetic_op\u001b[0;34m(left, right, op, is_cmp)\u001b[0m\n\u001b[1;32m    171\u001b[0m             \u001b[0;31m# Don't do this for comparisons, as that will handle complex numbers\u001b[0m\u001b[0;34m\u001b[0m\u001b[0;34m\u001b[0m\u001b[0;34m\u001b[0m\u001b[0m\n\u001b[1;32m    172\u001b[0m             \u001b[0;31m#  incorrectly, see GH#32047\u001b[0m\u001b[0;34m\u001b[0m\u001b[0;34m\u001b[0m\u001b[0;34m\u001b[0m\u001b[0m\n\u001b[0;32m--> 173\u001b[0;31m             \u001b[0mresult\u001b[0m \u001b[0;34m=\u001b[0m \u001b[0m_masked_arith_op\u001b[0m\u001b[0;34m(\u001b[0m\u001b[0mleft\u001b[0m\u001b[0;34m,\u001b[0m \u001b[0mright\u001b[0m\u001b[0;34m,\u001b[0m \u001b[0mop\u001b[0m\u001b[0;34m)\u001b[0m\u001b[0;34m\u001b[0m\u001b[0;34m\u001b[0m\u001b[0m\n\u001b[0m\u001b[1;32m    174\u001b[0m         \u001b[0;32melse\u001b[0m\u001b[0;34m:\u001b[0m\u001b[0;34m\u001b[0m\u001b[0;34m\u001b[0m\u001b[0m\n\u001b[1;32m    175\u001b[0m             \u001b[0;32mraise\u001b[0m\u001b[0;34m\u001b[0m\u001b[0;34m\u001b[0m\u001b[0m\n",
      "\u001b[0;32m~/anaconda3/envs/gamma/lib/python3.7/site-packages/pandas/core/ops/array_ops.py\u001b[0m in \u001b[0;36m_masked_arith_op\u001b[0;34m(x, y, op)\u001b[0m\n\u001b[1;32m    110\u001b[0m         \u001b[0;31m# See GH#5284, GH#5035, GH#19448 for historical reference\u001b[0m\u001b[0;34m\u001b[0m\u001b[0;34m\u001b[0m\u001b[0;34m\u001b[0m\u001b[0m\n\u001b[1;32m    111\u001b[0m         \u001b[0;32mif\u001b[0m \u001b[0mmask\u001b[0m\u001b[0;34m.\u001b[0m\u001b[0many\u001b[0m\u001b[0;34m(\u001b[0m\u001b[0;34m)\u001b[0m\u001b[0;34m:\u001b[0m\u001b[0;34m\u001b[0m\u001b[0;34m\u001b[0m\u001b[0m\n\u001b[0;32m--> 112\u001b[0;31m             \u001b[0mresult\u001b[0m\u001b[0;34m[\u001b[0m\u001b[0mmask\u001b[0m\u001b[0;34m]\u001b[0m \u001b[0;34m=\u001b[0m \u001b[0mop\u001b[0m\u001b[0;34m(\u001b[0m\u001b[0mxrav\u001b[0m\u001b[0;34m[\u001b[0m\u001b[0mmask\u001b[0m\u001b[0;34m]\u001b[0m\u001b[0;34m,\u001b[0m \u001b[0myrav\u001b[0m\u001b[0;34m[\u001b[0m\u001b[0mmask\u001b[0m\u001b[0;34m]\u001b[0m\u001b[0;34m)\u001b[0m\u001b[0;34m\u001b[0m\u001b[0;34m\u001b[0m\u001b[0m\n\u001b[0m\u001b[1;32m    113\u001b[0m \u001b[0;34m\u001b[0m\u001b[0m\n\u001b[1;32m    114\u001b[0m     \u001b[0;32melse\u001b[0m\u001b[0;34m:\u001b[0m\u001b[0;34m\u001b[0m\u001b[0;34m\u001b[0m\u001b[0m\n",
      "\u001b[0;31mTypeError\u001b[0m: unsupported operand type(s) for -: 'list' and 'float'"
     ]
    }
   ],
   "source": [
    "np.sum(np.abs((DB['pred_1']-DB['3 Mo'])/DB['3 Mo']))"
   ]
  },
  {
   "cell_type": "code",
   "execution_count": null,
   "metadata": {},
   "outputs": [],
   "source": [
    "tmp = np.abs((DB['pred_1']-DB['3 Mo'])/DB['3 Mo'])"
   ]
  },
  {
   "cell_type": "code",
   "execution_count": null,
   "metadata": {},
   "outputs": [
    {
     "data": {
      "text/plain": [
       "0.0009068566721827948"
      ]
     },
     "execution_count": 40,
     "metadata": {},
     "output_type": "execute_result"
    }
   ],
   "source": [
    "MSE"
   ]
  },
  {
   "cell_type": "code",
   "execution_count": null,
   "metadata": {},
   "outputs": [
    {
     "data": {
      "text/plain": [
       "inf"
      ]
     },
     "execution_count": 41,
     "metadata": {},
     "output_type": "execute_result"
    }
   ],
   "source": [
    "MAPE"
   ]
  },
  {
   "attachments": {},
   "cell_type": "markdown",
   "metadata": {},
   "source": [
    "# Vacisek"
   ]
  },
  {
   "cell_type": "code",
   "execution_count": null,
   "metadata": {},
   "outputs": [],
   "source": []
  }
 ],
 "metadata": {
  "kernelspec": {
   "display_name": "gamma",
   "language": "python",
   "name": "python3"
  },
  "language_info": {
   "codemirror_mode": {
    "name": "ipython",
    "version": 3
   },
   "file_extension": ".py",
   "mimetype": "text/x-python",
   "name": "python",
   "nbconvert_exporter": "python",
   "pygments_lexer": "ipython3",
   "version": "3.7.15"
  },
  "orig_nbformat": 4
 },
 "nbformat": 4,
 "nbformat_minor": 2
}
